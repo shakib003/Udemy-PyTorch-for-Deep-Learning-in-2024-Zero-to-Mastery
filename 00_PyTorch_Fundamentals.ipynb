{
  "nbformat": 4,
  "nbformat_minor": 0,
  "metadata": {
    "colab": {
      "provenance": [],
      "toc_visible": true,
      "authorship_tag": "ABX9TyOXUwlyDzYhbC0bZDSRpziI"
    },
    "kernelspec": {
      "name": "python3",
      "display_name": "Python 3"
    },
    "language_info": {
      "name": "python"
    }
  },
  "cells": [
    {
      "cell_type": "code",
      "source": [
        "import pandas as pd\n",
        "import numpy as np\n",
        "import matplotlib.pyplot as plt\n",
        "import torch\n",
        "print(torch.__version__)"
      ],
      "metadata": {
        "colab": {
          "base_uri": "https://localhost:8080/"
        },
        "id": "XkbX-w9k9EYv",
        "outputId": "77dcf2f9-6865-4ced-a2fd-002932efb8c4"
      },
      "execution_count": 1,
      "outputs": [
        {
          "output_type": "stream",
          "name": "stdout",
          "text": [
            "2.1.0+cu121\n"
          ]
        }
      ]
    },
    {
      "cell_type": "markdown",
      "source": [
        "## Introduction to Tensors\n",
        "\n",
        "### Creating tensors"
      ],
      "metadata": {
        "id": "k72cO6MV9XAB"
      }
    },
    {
      "cell_type": "markdown",
      "source": [
        "#### **scalar**\n"
      ],
      "metadata": {
        "id": "v6af1zoXRyfL"
      }
    },
    {
      "cell_type": "code",
      "source": [
        "scalar = torch.tensor(7)\n",
        "scalar"
      ],
      "metadata": {
        "colab": {
          "base_uri": "https://localhost:8080/"
        },
        "id": "8-vlz843DMMi",
        "outputId": "42181665-b29d-433a-ed48-96c9af4c46fd"
      },
      "execution_count": 2,
      "outputs": [
        {
          "output_type": "execute_result",
          "data": {
            "text/plain": [
              "tensor(7)"
            ]
          },
          "metadata": {},
          "execution_count": 2
        }
      ]
    },
    {
      "cell_type": "code",
      "source": [
        "scalar.ndim"
      ],
      "metadata": {
        "colab": {
          "base_uri": "https://localhost:8080/"
        },
        "id": "PU8E52TdEXly",
        "outputId": "2ffab3ba-3936-45a0-b491-f2f3691ed6b5"
      },
      "execution_count": 3,
      "outputs": [
        {
          "output_type": "execute_result",
          "data": {
            "text/plain": [
              "0"
            ]
          },
          "metadata": {},
          "execution_count": 3
        }
      ]
    },
    {
      "cell_type": "code",
      "source": [
        "scalar.shape"
      ],
      "metadata": {
        "colab": {
          "base_uri": "https://localhost:8080/"
        },
        "id": "qaIgcpYfJX4y",
        "outputId": "5547c654-ebd1-4bec-937c-e94402a48673"
      },
      "execution_count": 4,
      "outputs": [
        {
          "output_type": "execute_result",
          "data": {
            "text/plain": [
              "torch.Size([])"
            ]
          },
          "metadata": {},
          "execution_count": 4
        }
      ]
    },
    {
      "cell_type": "code",
      "source": [
        "# Get tensor back as Python int\n",
        "\n",
        "scalar.item()"
      ],
      "metadata": {
        "colab": {
          "base_uri": "https://localhost:8080/"
        },
        "id": "jOcmbjmOGAta",
        "outputId": "307a576d-16bb-42ef-c104-ebf5cf1c3850"
      },
      "execution_count": 5,
      "outputs": [
        {
          "output_type": "execute_result",
          "data": {
            "text/plain": [
              "7"
            ]
          },
          "metadata": {},
          "execution_count": 5
        }
      ]
    },
    {
      "cell_type": "markdown",
      "source": [
        "#### **Vector**"
      ],
      "metadata": {
        "id": "vEjKafbmR-e7"
      }
    },
    {
      "cell_type": "code",
      "source": [
        "vector1 = torch.tensor([7])\n",
        "vector1"
      ],
      "metadata": {
        "colab": {
          "base_uri": "https://localhost:8080/"
        },
        "id": "UDHq190RGcVf",
        "outputId": "f503520a-57be-4a67-f05c-a94c03a5dfbe"
      },
      "execution_count": 6,
      "outputs": [
        {
          "output_type": "execute_result",
          "data": {
            "text/plain": [
              "tensor([7])"
            ]
          },
          "metadata": {},
          "execution_count": 6
        }
      ]
    },
    {
      "cell_type": "code",
      "source": [
        "vector1.ndim"
      ],
      "metadata": {
        "colab": {
          "base_uri": "https://localhost:8080/"
        },
        "id": "vwNQp7ohHHoC",
        "outputId": "49ec3fec-cc97-4ab8-ae24-edbdb11fe778"
      },
      "execution_count": 7,
      "outputs": [
        {
          "output_type": "execute_result",
          "data": {
            "text/plain": [
              "1"
            ]
          },
          "metadata": {},
          "execution_count": 7
        }
      ]
    },
    {
      "cell_type": "code",
      "source": [
        "vector1.shape # [how_many_scalar]"
      ],
      "metadata": {
        "colab": {
          "base_uri": "https://localhost:8080/"
        },
        "id": "KRKzHiOLHYyx",
        "outputId": "a90be0aa-244a-43ed-e02e-a93befb3e833"
      },
      "execution_count": 8,
      "outputs": [
        {
          "output_type": "execute_result",
          "data": {
            "text/plain": [
              "torch.Size([1])"
            ]
          },
          "metadata": {},
          "execution_count": 8
        }
      ]
    },
    {
      "cell_type": "code",
      "source": [
        "vector = torch.tensor([7,7])"
      ],
      "metadata": {
        "id": "fIQno-7jG7pg"
      },
      "execution_count": 9,
      "outputs": []
    },
    {
      "cell_type": "code",
      "source": [
        "vector.ndim"
      ],
      "metadata": {
        "colab": {
          "base_uri": "https://localhost:8080/"
        },
        "id": "S7gFVNOFHK_U",
        "outputId": "62bc3d1f-d17f-4418-83ac-b47c842e28f2"
      },
      "execution_count": 10,
      "outputs": [
        {
          "output_type": "execute_result",
          "data": {
            "text/plain": [
              "1"
            ]
          },
          "metadata": {},
          "execution_count": 10
        }
      ]
    },
    {
      "cell_type": "code",
      "source": [
        "vector.shape # [how_many_scalar]"
      ],
      "metadata": {
        "colab": {
          "base_uri": "https://localhost:8080/"
        },
        "id": "cX8qKYm6HNzP",
        "outputId": "4b16e199-dbb4-4540-f38b-110fa043506f"
      },
      "execution_count": 11,
      "outputs": [
        {
          "output_type": "execute_result",
          "data": {
            "text/plain": [
              "torch.Size([2])"
            ]
          },
          "metadata": {},
          "execution_count": 11
        }
      ]
    },
    {
      "cell_type": "markdown",
      "source": [
        "#### **MATRIX**"
      ],
      "metadata": {
        "id": "fY9mXcTXSIzj"
      }
    },
    {
      "cell_type": "code",
      "source": [
        "MATRIX = torch.tensor([[7,8],\n",
        "                      [9,10],\n",
        "                       [5,7]])\n",
        "MATRIX"
      ],
      "metadata": {
        "colab": {
          "base_uri": "https://localhost:8080/"
        },
        "id": "0kYVCQ7VHeu4",
        "outputId": "7a51aea0-a321-44b2-8e90-dd55e5401583"
      },
      "execution_count": 19,
      "outputs": [
        {
          "output_type": "execute_result",
          "data": {
            "text/plain": [
              "tensor([[ 7,  8],\n",
              "        [ 9, 10],\n",
              "        [ 5,  7]])"
            ]
          },
          "metadata": {},
          "execution_count": 19
        }
      ]
    },
    {
      "cell_type": "code",
      "source": [
        "MATRIX.ndim"
      ],
      "metadata": {
        "colab": {
          "base_uri": "https://localhost:8080/"
        },
        "id": "O9v_v2bxH1cF",
        "outputId": "dda8ae45-f990-4d66-e17c-3136d351d014"
      },
      "execution_count": 20,
      "outputs": [
        {
          "output_type": "execute_result",
          "data": {
            "text/plain": [
              "2"
            ]
          },
          "metadata": {},
          "execution_count": 20
        }
      ]
    },
    {
      "cell_type": "code",
      "source": [
        "MATRIX.shape # [row, column]  /  [how_many_VECTOR, scalar_in_each_VECTOR]"
      ],
      "metadata": {
        "colab": {
          "base_uri": "https://localhost:8080/"
        },
        "id": "PfinMs63I98P",
        "outputId": "ec1a17a6-fdf7-493a-aeb8-77c65d7dd8d7"
      },
      "execution_count": 21,
      "outputs": [
        {
          "output_type": "execute_result",
          "data": {
            "text/plain": [
              "torch.Size([3, 2])"
            ]
          },
          "metadata": {},
          "execution_count": 21
        }
      ]
    },
    {
      "cell_type": "code",
      "source": [
        "MATRIX[0] # is a vector"
      ],
      "metadata": {
        "colab": {
          "base_uri": "https://localhost:8080/"
        },
        "id": "e_mpgorOTWFc",
        "outputId": "34b581f3-38a9-460c-99d9-7ec641f94e63"
      },
      "execution_count": 22,
      "outputs": [
        {
          "output_type": "execute_result",
          "data": {
            "text/plain": [
              "tensor([7, 8])"
            ]
          },
          "metadata": {},
          "execution_count": 22
        }
      ]
    },
    {
      "cell_type": "code",
      "source": [
        "MATRIX[0].shape"
      ],
      "metadata": {
        "colab": {
          "base_uri": "https://localhost:8080/"
        },
        "id": "p2V_dOQ_TbE7",
        "outputId": "deb174d5-f5a8-483a-d06d-9d6b4208e5db"
      },
      "execution_count": 23,
      "outputs": [
        {
          "output_type": "execute_result",
          "data": {
            "text/plain": [
              "torch.Size([2])"
            ]
          },
          "metadata": {},
          "execution_count": 23
        }
      ]
    },
    {
      "cell_type": "markdown",
      "source": [
        "### **TENSOR**"
      ],
      "metadata": {
        "id": "0Z8W0737SU3S"
      }
    },
    {
      "cell_type": "code",
      "source": [
        "TENSOR = torch.tensor([[[1, 2, 3],\n",
        "                        [3, 6, 9],\n",
        "                        [2, 4, 5]]])\n",
        "TENSOR"
      ],
      "metadata": {
        "colab": {
          "base_uri": "https://localhost:8080/"
        },
        "id": "9zc8026xJLV5",
        "outputId": "e735ffd9-7b3c-42cc-cf87-ac59ace83d36"
      },
      "execution_count": 45,
      "outputs": [
        {
          "output_type": "execute_result",
          "data": {
            "text/plain": [
              "tensor([[[1, 2, 3],\n",
              "         [3, 6, 9],\n",
              "         [2, 4, 5]]])"
            ]
          },
          "metadata": {},
          "execution_count": 45
        }
      ]
    },
    {
      "cell_type": "code",
      "source": [
        "TENSOR.ndim"
      ],
      "metadata": {
        "colab": {
          "base_uri": "https://localhost:8080/"
        },
        "id": "FiVsJK5Blw3t",
        "outputId": "c7324786-00b7-4a80-9e65-984e160c04a6"
      },
      "execution_count": 46,
      "outputs": [
        {
          "output_type": "execute_result",
          "data": {
            "text/plain": [
              "3"
            ]
          },
          "metadata": {},
          "execution_count": 46
        }
      ]
    },
    {
      "cell_type": "code",
      "source": [
        "TENSOR.shape # [how_many_MATRIX, each_MATRIX_row, each_MATRIX_column]"
      ],
      "metadata": {
        "id": "peb_Ive1l0Yk",
        "outputId": "700557ab-cc48-4768-efce-bd2c4ab65f66",
        "colab": {
          "base_uri": "https://localhost:8080/"
        }
      },
      "execution_count": 47,
      "outputs": [
        {
          "output_type": "execute_result",
          "data": {
            "text/plain": [
              "torch.Size([1, 3, 3])"
            ]
          },
          "metadata": {},
          "execution_count": 47
        }
      ]
    },
    {
      "cell_type": "code",
      "source": [
        "TENSOR1 = torch.tensor([[[1, 2, 3],\n",
        "                        [3, 6, 9],\n",
        "                        [2, 4, 5]],\n",
        "                       [[4, 2, 3],\n",
        "                        [3, 3, 9],\n",
        "                        [2, 4, 6]]])\n",
        "TENSOR1"
      ],
      "metadata": {
        "colab": {
          "base_uri": "https://localhost:8080/"
        },
        "id": "65VAtCfRYSvC",
        "outputId": "950a6e1b-c3c5-4294-d2b4-57cfebe2af97"
      },
      "execution_count": 48,
      "outputs": [
        {
          "output_type": "execute_result",
          "data": {
            "text/plain": [
              "tensor([[[1, 2, 3],\n",
              "         [3, 6, 9],\n",
              "         [2, 4, 5]],\n",
              "\n",
              "        [[4, 2, 3],\n",
              "         [3, 3, 9],\n",
              "         [2, 4, 6]]])"
            ]
          },
          "metadata": {},
          "execution_count": 48
        }
      ]
    },
    {
      "cell_type": "code",
      "source": [
        "TENSOR1.ndim"
      ],
      "metadata": {
        "colab": {
          "base_uri": "https://localhost:8080/"
        },
        "id": "fZewphiGYYf1",
        "outputId": "69f657d0-dd67-467b-b67c-3b5aa110f288"
      },
      "execution_count": 49,
      "outputs": [
        {
          "output_type": "execute_result",
          "data": {
            "text/plain": [
              "3"
            ]
          },
          "metadata": {},
          "execution_count": 49
        }
      ]
    },
    {
      "cell_type": "code",
      "source": [
        "TENSOR1.shape # [how_many_MATRIX, each_MATRIX_row, each_MATRIX_column]"
      ],
      "metadata": {
        "colab": {
          "base_uri": "https://localhost:8080/"
        },
        "id": "60OrM_iLYcPi",
        "outputId": "e10ac643-8b1d-4b7f-c8ad-4f253a6b9639"
      },
      "execution_count": 50,
      "outputs": [
        {
          "output_type": "execute_result",
          "data": {
            "text/plain": [
              "torch.Size([2, 3, 3])"
            ]
          },
          "metadata": {},
          "execution_count": 50
        }
      ]
    },
    {
      "cell_type": "code",
      "source": [
        "TENSOR2 = torch.tensor([[[[1, 2, 3],\n",
        "                        [3, 6, 9],\n",
        "                        [2, 4, 5]],\n",
        "                       [[4, 2, 3],\n",
        "                        [3, 3, 9],\n",
        "                        [2, 4, 6]]],\n",
        "\n",
        "                        [[[9, 2, 3],\n",
        "                        [3, 4, 9],\n",
        "                        [2, 4, 5]],\n",
        "                       [[4, 9, 3],\n",
        "                        [3, 5, 9],\n",
        "                        [2, 4, 6]]]])\n",
        "TENSOR2"
      ],
      "metadata": {
        "id": "NkOGiUA9l5B5",
        "colab": {
          "base_uri": "https://localhost:8080/"
        },
        "outputId": "365ea1b9-5eb7-48a4-bdf2-8da0cad765b9"
      },
      "execution_count": 51,
      "outputs": [
        {
          "output_type": "execute_result",
          "data": {
            "text/plain": [
              "tensor([[[[1, 2, 3],\n",
              "          [3, 6, 9],\n",
              "          [2, 4, 5]],\n",
              "\n",
              "         [[4, 2, 3],\n",
              "          [3, 3, 9],\n",
              "          [2, 4, 6]]],\n",
              "\n",
              "\n",
              "        [[[9, 2, 3],\n",
              "          [3, 4, 9],\n",
              "          [2, 4, 5]],\n",
              "\n",
              "         [[4, 9, 3],\n",
              "          [3, 5, 9],\n",
              "          [2, 4, 6]]]])"
            ]
          },
          "metadata": {},
          "execution_count": 51
        }
      ]
    },
    {
      "cell_type": "code",
      "source": [
        "TENSOR2.ndim"
      ],
      "metadata": {
        "colab": {
          "base_uri": "https://localhost:8080/"
        },
        "id": "SRiCB5skUA5b",
        "outputId": "0bfa62a5-eb33-4c82-9a8c-33ed047f2e82"
      },
      "execution_count": 52,
      "outputs": [
        {
          "output_type": "execute_result",
          "data": {
            "text/plain": [
              "4"
            ]
          },
          "metadata": {},
          "execution_count": 52
        }
      ]
    },
    {
      "cell_type": "code",
      "source": [
        "TENSOR2.shape # [how_many_TENSOR, how_many_MATRIX_in_each_TENSOR, each_MATRIX_row, each_MATRIX_column]"
      ],
      "metadata": {
        "colab": {
          "base_uri": "https://localhost:8080/"
        },
        "id": "lx0UMZ0TUBMQ",
        "outputId": "b08beb30-e702-432c-845a-14d408b74fcb"
      },
      "execution_count": 53,
      "outputs": [
        {
          "output_type": "execute_result",
          "data": {
            "text/plain": [
              "torch.Size([2, 2, 3, 3])"
            ]
          },
          "metadata": {},
          "execution_count": 53
        }
      ]
    },
    {
      "cell_type": "markdown",
      "source": [
        "`scalar(ndim=0) --> vector(ndim=1) --> MATRIX(ndim=2) --> TENSOR(ndim=3)`"
      ],
      "metadata": {
        "id": "ByEuHtZcUC52"
      }
    },
    {
      "cell_type": "markdown",
      "source": [
        "## Random tensors\n",
        "\n",
        "* *Why random tensors?*\n",
        " > **Random tensors** are important beacause the way many Neural Networks learn is that, it **starts with some random tensors full of random weights (numbers)** and then adjust those random weights to better represent the data.  "
      ],
      "metadata": {
        "id": "TV4F62XrZIJr"
      }
    },
    {
      "cell_type": "code",
      "source": [
        "random_tensor_1 = torch.rand(3)\n",
        "random_tensor_1"
      ],
      "metadata": {
        "colab": {
          "base_uri": "https://localhost:8080/"
        },
        "id": "KwDiWz5aUnB0",
        "outputId": "4e7d265c-1b0a-4269-f00a-91573ebd6d0d"
      },
      "execution_count": 54,
      "outputs": [
        {
          "output_type": "execute_result",
          "data": {
            "text/plain": [
              "tensor([0.4283, 0.7546, 0.6662])"
            ]
          },
          "metadata": {},
          "execution_count": 54
        }
      ]
    },
    {
      "cell_type": "code",
      "source": [
        "random_tensor_1.ndim"
      ],
      "metadata": {
        "colab": {
          "base_uri": "https://localhost:8080/"
        },
        "id": "Fqt2jDklbkU-",
        "outputId": "cc85c6dd-b864-4d59-c4f3-0261813be35c"
      },
      "execution_count": 55,
      "outputs": [
        {
          "output_type": "execute_result",
          "data": {
            "text/plain": [
              "1"
            ]
          },
          "metadata": {},
          "execution_count": 55
        }
      ]
    },
    {
      "cell_type": "code",
      "source": [
        "random_tensor_2 = torch.rand(3,2)\n",
        "random_tensor_2"
      ],
      "metadata": {
        "colab": {
          "base_uri": "https://localhost:8080/"
        },
        "id": "32jQEvr7bmEe",
        "outputId": "a574890f-8895-4ce8-a7aa-590d89cc513f"
      },
      "execution_count": 57,
      "outputs": [
        {
          "output_type": "execute_result",
          "data": {
            "text/plain": [
              "tensor([[0.1016, 0.9429],\n",
              "        [0.2772, 0.0148],\n",
              "        [0.9530, 0.7743]])"
            ]
          },
          "metadata": {},
          "execution_count": 57
        }
      ]
    },
    {
      "cell_type": "code",
      "source": [
        "random_tensor_2.ndim"
      ],
      "metadata": {
        "colab": {
          "base_uri": "https://localhost:8080/"
        },
        "id": "9UxaVuymbp4C",
        "outputId": "2e094d81-49b7-434d-c937-86e30ebc0d1c"
      },
      "execution_count": 59,
      "outputs": [
        {
          "output_type": "execute_result",
          "data": {
            "text/plain": [
              "2"
            ]
          },
          "metadata": {},
          "execution_count": 59
        }
      ]
    },
    {
      "cell_type": "code",
      "source": [
        "random_tensor_3 = torch.rand(4,3,2)\n",
        "random_tensor_3"
      ],
      "metadata": {
        "colab": {
          "base_uri": "https://localhost:8080/"
        },
        "id": "3oyVZYMBbu56",
        "outputId": "0400fa01-29ad-4871-cfc0-f1485cdfbded"
      },
      "execution_count": 60,
      "outputs": [
        {
          "output_type": "execute_result",
          "data": {
            "text/plain": [
              "tensor([[[0.9579, 0.6810],\n",
              "         [0.5618, 0.2044],\n",
              "         [0.7649, 0.3382]],\n",
              "\n",
              "        [[0.9313, 0.6116],\n",
              "         [0.9592, 0.8928],\n",
              "         [0.3563, 0.8729]],\n",
              "\n",
              "        [[0.1800, 0.4707],\n",
              "         [0.3408, 0.3912],\n",
              "         [0.1212, 0.3679]],\n",
              "\n",
              "        [[0.6863, 0.6298],\n",
              "         [0.6323, 0.0939],\n",
              "         [0.5588, 0.9364]]])"
            ]
          },
          "metadata": {},
          "execution_count": 60
        }
      ]
    },
    {
      "cell_type": "code",
      "source": [
        "random_tensor_3.ndim"
      ],
      "metadata": {
        "colab": {
          "base_uri": "https://localhost:8080/"
        },
        "id": "hSRvNyQDb30E",
        "outputId": "fbb203b5-0033-4c09-b4fb-f7950519f6b1"
      },
      "execution_count": 61,
      "outputs": [
        {
          "output_type": "execute_result",
          "data": {
            "text/plain": [
              "3"
            ]
          },
          "metadata": {},
          "execution_count": 61
        }
      ]
    },
    {
      "cell_type": "code",
      "source": [
        "random_tensor_4 = torch.rand(3,4,3,2)\n",
        "random_tensor_4"
      ],
      "metadata": {
        "colab": {
          "base_uri": "https://localhost:8080/"
        },
        "id": "Lensgv8vb5wf",
        "outputId": "92028ac9-4370-417b-8e19-6c23b96af0ac"
      },
      "execution_count": 62,
      "outputs": [
        {
          "output_type": "execute_result",
          "data": {
            "text/plain": [
              "tensor([[[[0.0902, 0.3723],\n",
              "          [0.7999, 0.4377],\n",
              "          [0.7548, 0.5889]],\n",
              "\n",
              "         [[0.1601, 0.6627],\n",
              "          [0.7116, 0.5490],\n",
              "          [0.8396, 0.2663]],\n",
              "\n",
              "         [[0.9843, 0.1575],\n",
              "          [0.0103, 0.0711],\n",
              "          [0.2055, 0.7109]],\n",
              "\n",
              "         [[0.6322, 0.9943],\n",
              "          [0.3999, 0.7933],\n",
              "          [0.1523, 0.7513]]],\n",
              "\n",
              "\n",
              "        [[[0.1440, 0.1481],\n",
              "          [0.5654, 0.3729],\n",
              "          [0.3387, 0.9677]],\n",
              "\n",
              "         [[0.3093, 0.8628],\n",
              "          [0.8883, 0.3007],\n",
              "          [0.6202, 0.5984]],\n",
              "\n",
              "         [[0.5749, 0.8798],\n",
              "          [0.4117, 0.8703],\n",
              "          [0.4038, 0.0709]],\n",
              "\n",
              "         [[0.5285, 0.0745],\n",
              "          [0.1308, 0.8680],\n",
              "          [0.0662, 0.8638]]],\n",
              "\n",
              "\n",
              "        [[[0.3035, 0.5071],\n",
              "          [0.8880, 0.2168],\n",
              "          [0.9182, 0.9522]],\n",
              "\n",
              "         [[0.1448, 0.9009],\n",
              "          [0.9130, 0.2549],\n",
              "          [0.3374, 0.1691]],\n",
              "\n",
              "         [[0.5699, 0.0268],\n",
              "          [0.3037, 0.3174],\n",
              "          [0.1815, 0.3506]],\n",
              "\n",
              "         [[0.1283, 0.4810],\n",
              "          [0.9848, 0.5863],\n",
              "          [0.5149, 0.4135]]]])"
            ]
          },
          "metadata": {},
          "execution_count": 62
        }
      ]
    },
    {
      "cell_type": "code",
      "source": [
        "random_tensor_4.ndim"
      ],
      "metadata": {
        "colab": {
          "base_uri": "https://localhost:8080/"
        },
        "id": "KzYc_eC-cNOT",
        "outputId": "c3c1cab7-3c8f-433b-ccef-4b652d31dff8"
      },
      "execution_count": 64,
      "outputs": [
        {
          "output_type": "execute_result",
          "data": {
            "text/plain": [
              "4"
            ]
          },
          "metadata": {},
          "execution_count": 64
        }
      ]
    },
    {
      "cell_type": "code",
      "source": [],
      "metadata": {
        "id": "Vqi5T3cHcPNz"
      },
      "execution_count": null,
      "outputs": []
    }
  ]
}