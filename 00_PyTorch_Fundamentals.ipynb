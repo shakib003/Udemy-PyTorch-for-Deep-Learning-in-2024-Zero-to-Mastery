{
  "nbformat": 4,
  "nbformat_minor": 0,
  "metadata": {
    "colab": {
      "provenance": [],
      "toc_visible": true,
      "authorship_tag": "ABX9TyNhcc7fGqSQJ3IAMVtruFJ7"
    },
    "kernelspec": {
      "name": "python3",
      "display_name": "Python 3"
    },
    "language_info": {
      "name": "python"
    }
  },
  "cells": [
    {
      "cell_type": "code",
      "source": [
        "import pandas as pd\n",
        "import numpy as np\n",
        "import matplotlib.pyplot as plt\n",
        "import torch\n",
        "print(torch.__version__)"
      ],
      "metadata": {
        "colab": {
          "base_uri": "https://localhost:8080/"
        },
        "id": "XkbX-w9k9EYv",
        "outputId": "8ecf004b-1eeb-41c1-f229-0bf3e098367b"
      },
      "execution_count": 68,
      "outputs": [
        {
          "output_type": "stream",
          "name": "stdout",
          "text": [
            "2.1.0+cu121\n"
          ]
        }
      ]
    },
    {
      "cell_type": "markdown",
      "source": [
        "## Introduction to Tensors\n",
        "\n",
        "### Creating tensors"
      ],
      "metadata": {
        "id": "k72cO6MV9XAB"
      }
    },
    {
      "cell_type": "markdown",
      "source": [
        "#### **scalar**\n"
      ],
      "metadata": {
        "id": "v6af1zoXRyfL"
      }
    },
    {
      "cell_type": "code",
      "source": [
        "scalar = torch.tensor(7)\n",
        "scalar"
      ],
      "metadata": {
        "colab": {
          "base_uri": "https://localhost:8080/"
        },
        "id": "8-vlz843DMMi",
        "outputId": "4879e374-a1e3-44eb-f085-9305843eec3d"
      },
      "execution_count": 69,
      "outputs": [
        {
          "output_type": "execute_result",
          "data": {
            "text/plain": [
              "tensor(7)"
            ]
          },
          "metadata": {},
          "execution_count": 69
        }
      ]
    },
    {
      "cell_type": "code",
      "source": [
        "scalar.ndim"
      ],
      "metadata": {
        "colab": {
          "base_uri": "https://localhost:8080/"
        },
        "id": "PU8E52TdEXly",
        "outputId": "a831e03a-add4-447a-a22c-c8763f3c9c18"
      },
      "execution_count": 70,
      "outputs": [
        {
          "output_type": "execute_result",
          "data": {
            "text/plain": [
              "0"
            ]
          },
          "metadata": {},
          "execution_count": 70
        }
      ]
    },
    {
      "cell_type": "code",
      "source": [
        "scalar.shape"
      ],
      "metadata": {
        "colab": {
          "base_uri": "https://localhost:8080/"
        },
        "id": "qaIgcpYfJX4y",
        "outputId": "28563560-66a1-487f-b77f-52388df70c55"
      },
      "execution_count": 71,
      "outputs": [
        {
          "output_type": "execute_result",
          "data": {
            "text/plain": [
              "torch.Size([])"
            ]
          },
          "metadata": {},
          "execution_count": 71
        }
      ]
    },
    {
      "cell_type": "code",
      "source": [
        "# Get tensor back as Python int\n",
        "\n",
        "scalar.item()"
      ],
      "metadata": {
        "colab": {
          "base_uri": "https://localhost:8080/"
        },
        "id": "jOcmbjmOGAta",
        "outputId": "81240ba7-af84-4cae-90bf-e94ca6036e7d"
      },
      "execution_count": 72,
      "outputs": [
        {
          "output_type": "execute_result",
          "data": {
            "text/plain": [
              "7"
            ]
          },
          "metadata": {},
          "execution_count": 72
        }
      ]
    },
    {
      "cell_type": "markdown",
      "source": [
        "#### **Vector**"
      ],
      "metadata": {
        "id": "vEjKafbmR-e7"
      }
    },
    {
      "cell_type": "code",
      "source": [
        "vector1 = torch.tensor([7])\n",
        "vector1"
      ],
      "metadata": {
        "colab": {
          "base_uri": "https://localhost:8080/"
        },
        "id": "UDHq190RGcVf",
        "outputId": "37553f19-90fc-4ea7-afb9-f107c9c42be1"
      },
      "execution_count": 73,
      "outputs": [
        {
          "output_type": "execute_result",
          "data": {
            "text/plain": [
              "tensor([7])"
            ]
          },
          "metadata": {},
          "execution_count": 73
        }
      ]
    },
    {
      "cell_type": "code",
      "source": [
        "vector1.ndim"
      ],
      "metadata": {
        "colab": {
          "base_uri": "https://localhost:8080/"
        },
        "id": "vwNQp7ohHHoC",
        "outputId": "e7422588-d938-49a7-c3d5-f890ac066fb5"
      },
      "execution_count": 74,
      "outputs": [
        {
          "output_type": "execute_result",
          "data": {
            "text/plain": [
              "1"
            ]
          },
          "metadata": {},
          "execution_count": 74
        }
      ]
    },
    {
      "cell_type": "code",
      "source": [
        "vector1.shape # [how_many_scalar]"
      ],
      "metadata": {
        "colab": {
          "base_uri": "https://localhost:8080/"
        },
        "id": "KRKzHiOLHYyx",
        "outputId": "9ddaed81-e9cf-4925-a49b-20ae7087b0c7"
      },
      "execution_count": 75,
      "outputs": [
        {
          "output_type": "execute_result",
          "data": {
            "text/plain": [
              "torch.Size([1])"
            ]
          },
          "metadata": {},
          "execution_count": 75
        }
      ]
    },
    {
      "cell_type": "code",
      "source": [
        "vector = torch.tensor([7,7])"
      ],
      "metadata": {
        "id": "fIQno-7jG7pg"
      },
      "execution_count": 76,
      "outputs": []
    },
    {
      "cell_type": "code",
      "source": [
        "vector.ndim"
      ],
      "metadata": {
        "colab": {
          "base_uri": "https://localhost:8080/"
        },
        "id": "S7gFVNOFHK_U",
        "outputId": "a2bbc0db-4065-4be4-af1b-8b3488669d20"
      },
      "execution_count": 77,
      "outputs": [
        {
          "output_type": "execute_result",
          "data": {
            "text/plain": [
              "1"
            ]
          },
          "metadata": {},
          "execution_count": 77
        }
      ]
    },
    {
      "cell_type": "code",
      "source": [
        "vector.shape # [how_many_scalar]"
      ],
      "metadata": {
        "colab": {
          "base_uri": "https://localhost:8080/"
        },
        "id": "cX8qKYm6HNzP",
        "outputId": "c4f4e196-2f47-4da9-fabd-97ebfd2dd849"
      },
      "execution_count": 78,
      "outputs": [
        {
          "output_type": "execute_result",
          "data": {
            "text/plain": [
              "torch.Size([2])"
            ]
          },
          "metadata": {},
          "execution_count": 78
        }
      ]
    },
    {
      "cell_type": "markdown",
      "source": [
        "#### **MATRIX**"
      ],
      "metadata": {
        "id": "fY9mXcTXSIzj"
      }
    },
    {
      "cell_type": "code",
      "source": [
        "MATRIX = torch.tensor([[7,8],\n",
        "                      [9,10],\n",
        "                       [5,7]])\n",
        "MATRIX"
      ],
      "metadata": {
        "colab": {
          "base_uri": "https://localhost:8080/"
        },
        "id": "0kYVCQ7VHeu4",
        "outputId": "3eb3f973-18c2-4b0a-ff07-3d0eddc262df"
      },
      "execution_count": 79,
      "outputs": [
        {
          "output_type": "execute_result",
          "data": {
            "text/plain": [
              "tensor([[ 7,  8],\n",
              "        [ 9, 10],\n",
              "        [ 5,  7]])"
            ]
          },
          "metadata": {},
          "execution_count": 79
        }
      ]
    },
    {
      "cell_type": "code",
      "source": [
        "MATRIX.ndim"
      ],
      "metadata": {
        "colab": {
          "base_uri": "https://localhost:8080/"
        },
        "id": "O9v_v2bxH1cF",
        "outputId": "c4a15278-4a24-4cc8-92bf-7be4f94cd7d6"
      },
      "execution_count": 80,
      "outputs": [
        {
          "output_type": "execute_result",
          "data": {
            "text/plain": [
              "2"
            ]
          },
          "metadata": {},
          "execution_count": 80
        }
      ]
    },
    {
      "cell_type": "code",
      "source": [
        "MATRIX.shape # [row, column]  /  [how_many_VECTOR, scalar_in_each_VECTOR]"
      ],
      "metadata": {
        "colab": {
          "base_uri": "https://localhost:8080/"
        },
        "id": "PfinMs63I98P",
        "outputId": "20e40807-cec8-4b75-bc1c-de1f393be6b4"
      },
      "execution_count": 81,
      "outputs": [
        {
          "output_type": "execute_result",
          "data": {
            "text/plain": [
              "torch.Size([3, 2])"
            ]
          },
          "metadata": {},
          "execution_count": 81
        }
      ]
    },
    {
      "cell_type": "code",
      "source": [
        "MATRIX[0] # is a vector"
      ],
      "metadata": {
        "colab": {
          "base_uri": "https://localhost:8080/"
        },
        "id": "e_mpgorOTWFc",
        "outputId": "7d30cf68-9c33-4061-c9c3-2ca6ca34e184"
      },
      "execution_count": 82,
      "outputs": [
        {
          "output_type": "execute_result",
          "data": {
            "text/plain": [
              "tensor([7, 8])"
            ]
          },
          "metadata": {},
          "execution_count": 82
        }
      ]
    },
    {
      "cell_type": "code",
      "source": [
        "MATRIX[0].shape"
      ],
      "metadata": {
        "colab": {
          "base_uri": "https://localhost:8080/"
        },
        "id": "p2V_dOQ_TbE7",
        "outputId": "2ffb422c-1bbf-428e-846f-1797dd2a3da0"
      },
      "execution_count": 83,
      "outputs": [
        {
          "output_type": "execute_result",
          "data": {
            "text/plain": [
              "torch.Size([2])"
            ]
          },
          "metadata": {},
          "execution_count": 83
        }
      ]
    },
    {
      "cell_type": "markdown",
      "source": [
        "### **TENSOR**"
      ],
      "metadata": {
        "id": "0Z8W0737SU3S"
      }
    },
    {
      "cell_type": "code",
      "source": [
        "TENSOR = torch.tensor([[[1, 2, 3],\n",
        "                        [3, 6, 9],\n",
        "                        [2, 4, 5]]])\n",
        "TENSOR"
      ],
      "metadata": {
        "colab": {
          "base_uri": "https://localhost:8080/"
        },
        "id": "9zc8026xJLV5",
        "outputId": "8f2309da-b3e4-420c-b426-e6bbea3f170d"
      },
      "execution_count": 84,
      "outputs": [
        {
          "output_type": "execute_result",
          "data": {
            "text/plain": [
              "tensor([[[1, 2, 3],\n",
              "         [3, 6, 9],\n",
              "         [2, 4, 5]]])"
            ]
          },
          "metadata": {},
          "execution_count": 84
        }
      ]
    },
    {
      "cell_type": "code",
      "source": [
        "TENSOR.ndim"
      ],
      "metadata": {
        "colab": {
          "base_uri": "https://localhost:8080/"
        },
        "id": "FiVsJK5Blw3t",
        "outputId": "5454c98f-4637-4f6d-f74d-df8e60ab554a"
      },
      "execution_count": 85,
      "outputs": [
        {
          "output_type": "execute_result",
          "data": {
            "text/plain": [
              "3"
            ]
          },
          "metadata": {},
          "execution_count": 85
        }
      ]
    },
    {
      "cell_type": "code",
      "source": [
        "TENSOR.shape # [how_many_MATRIX, each_MATRIX_row, each_MATRIX_column]"
      ],
      "metadata": {
        "id": "peb_Ive1l0Yk",
        "outputId": "910e66d4-8c19-4292-ded3-1f45903868c0",
        "colab": {
          "base_uri": "https://localhost:8080/"
        }
      },
      "execution_count": 86,
      "outputs": [
        {
          "output_type": "execute_result",
          "data": {
            "text/plain": [
              "torch.Size([1, 3, 3])"
            ]
          },
          "metadata": {},
          "execution_count": 86
        }
      ]
    },
    {
      "cell_type": "code",
      "source": [
        "TENSOR1 = torch.tensor([[[1, 2, 3],\n",
        "                        [3, 6, 9],\n",
        "                        [2, 4, 5]],\n",
        "                       [[4, 2, 3],\n",
        "                        [3, 3, 9],\n",
        "                        [2, 4, 6]]])\n",
        "TENSOR1"
      ],
      "metadata": {
        "colab": {
          "base_uri": "https://localhost:8080/"
        },
        "id": "65VAtCfRYSvC",
        "outputId": "2069cf0f-6b70-4914-9546-8465f201dd8b"
      },
      "execution_count": 87,
      "outputs": [
        {
          "output_type": "execute_result",
          "data": {
            "text/plain": [
              "tensor([[[1, 2, 3],\n",
              "         [3, 6, 9],\n",
              "         [2, 4, 5]],\n",
              "\n",
              "        [[4, 2, 3],\n",
              "         [3, 3, 9],\n",
              "         [2, 4, 6]]])"
            ]
          },
          "metadata": {},
          "execution_count": 87
        }
      ]
    },
    {
      "cell_type": "code",
      "source": [
        "TENSOR1.ndim"
      ],
      "metadata": {
        "colab": {
          "base_uri": "https://localhost:8080/"
        },
        "id": "fZewphiGYYf1",
        "outputId": "e4a24448-4c70-417a-870d-f6fbe7a95322"
      },
      "execution_count": 88,
      "outputs": [
        {
          "output_type": "execute_result",
          "data": {
            "text/plain": [
              "3"
            ]
          },
          "metadata": {},
          "execution_count": 88
        }
      ]
    },
    {
      "cell_type": "code",
      "source": [
        "TENSOR1.shape # [how_many_MATRIX, each_MATRIX_row, each_MATRIX_column]"
      ],
      "metadata": {
        "colab": {
          "base_uri": "https://localhost:8080/"
        },
        "id": "60OrM_iLYcPi",
        "outputId": "3ca54907-ae67-4a31-8376-0cd91c1ddae2"
      },
      "execution_count": 89,
      "outputs": [
        {
          "output_type": "execute_result",
          "data": {
            "text/plain": [
              "torch.Size([2, 3, 3])"
            ]
          },
          "metadata": {},
          "execution_count": 89
        }
      ]
    },
    {
      "cell_type": "code",
      "source": [
        "TENSOR2 = torch.tensor([[[[1, 2, 3],\n",
        "                        [3, 6, 9],\n",
        "                        [2, 4, 5]],\n",
        "                       [[4, 2, 3],\n",
        "                        [3, 3, 9],\n",
        "                        [2, 4, 6]]],\n",
        "\n",
        "                        [[[9, 2, 3],\n",
        "                        [3, 4, 9],\n",
        "                        [2, 4, 5]],\n",
        "                       [[4, 9, 3],\n",
        "                        [3, 5, 9],\n",
        "                        [2, 4, 6]]]])\n",
        "TENSOR2"
      ],
      "metadata": {
        "id": "NkOGiUA9l5B5",
        "colab": {
          "base_uri": "https://localhost:8080/"
        },
        "outputId": "2957d4dc-0ca4-4fbe-cbe0-2b3a38c13d10"
      },
      "execution_count": 90,
      "outputs": [
        {
          "output_type": "execute_result",
          "data": {
            "text/plain": [
              "tensor([[[[1, 2, 3],\n",
              "          [3, 6, 9],\n",
              "          [2, 4, 5]],\n",
              "\n",
              "         [[4, 2, 3],\n",
              "          [3, 3, 9],\n",
              "          [2, 4, 6]]],\n",
              "\n",
              "\n",
              "        [[[9, 2, 3],\n",
              "          [3, 4, 9],\n",
              "          [2, 4, 5]],\n",
              "\n",
              "         [[4, 9, 3],\n",
              "          [3, 5, 9],\n",
              "          [2, 4, 6]]]])"
            ]
          },
          "metadata": {},
          "execution_count": 90
        }
      ]
    },
    {
      "cell_type": "code",
      "source": [
        "TENSOR2.ndim"
      ],
      "metadata": {
        "colab": {
          "base_uri": "https://localhost:8080/"
        },
        "id": "SRiCB5skUA5b",
        "outputId": "96c0f986-b970-4c13-b89b-8da7a1a37d76"
      },
      "execution_count": 91,
      "outputs": [
        {
          "output_type": "execute_result",
          "data": {
            "text/plain": [
              "4"
            ]
          },
          "metadata": {},
          "execution_count": 91
        }
      ]
    },
    {
      "cell_type": "code",
      "source": [
        "TENSOR2.shape # [how_many_TENSOR, how_many_MATRIX_in_each_TENSOR, each_MATRIX_row, each_MATRIX_column]"
      ],
      "metadata": {
        "colab": {
          "base_uri": "https://localhost:8080/"
        },
        "id": "lx0UMZ0TUBMQ",
        "outputId": "2deb0851-143e-4c95-a0a4-8fc429cf8cd6"
      },
      "execution_count": 92,
      "outputs": [
        {
          "output_type": "execute_result",
          "data": {
            "text/plain": [
              "torch.Size([2, 2, 3, 3])"
            ]
          },
          "metadata": {},
          "execution_count": 92
        }
      ]
    },
    {
      "cell_type": "markdown",
      "source": [
        "`scalar(ndim=0) --> vector(ndim=1) --> MATRIX(ndim=2) --> TENSOR(ndim=3)`"
      ],
      "metadata": {
        "id": "ByEuHtZcUC52"
      }
    },
    {
      "cell_type": "markdown",
      "source": [
        "## Random tensors\n",
        "\n",
        "* *Why random tensors?*\n",
        " > **Random tensors** are important beacause the way many Neural Networks learn is that, it **starts with some random tensors full of random weights (numbers)** and then adjust those random weights to better represent the data.  "
      ],
      "metadata": {
        "id": "TV4F62XrZIJr"
      }
    },
    {
      "cell_type": "code",
      "source": [
        "random_tensor_1 = torch.rand(3)\n",
        "random_tensor_1"
      ],
      "metadata": {
        "colab": {
          "base_uri": "https://localhost:8080/"
        },
        "id": "KwDiWz5aUnB0",
        "outputId": "8afeded4-ea01-4c64-eca5-2c4d496f0024"
      },
      "execution_count": 93,
      "outputs": [
        {
          "output_type": "execute_result",
          "data": {
            "text/plain": [
              "tensor([0.7481, 0.4465, 0.2805])"
            ]
          },
          "metadata": {},
          "execution_count": 93
        }
      ]
    },
    {
      "cell_type": "code",
      "source": [
        "random_tensor_1.ndim"
      ],
      "metadata": {
        "colab": {
          "base_uri": "https://localhost:8080/"
        },
        "id": "Fqt2jDklbkU-",
        "outputId": "5db8c28f-c650-404f-f1a6-75b83c73b3e2"
      },
      "execution_count": 94,
      "outputs": [
        {
          "output_type": "execute_result",
          "data": {
            "text/plain": [
              "1"
            ]
          },
          "metadata": {},
          "execution_count": 94
        }
      ]
    },
    {
      "cell_type": "code",
      "source": [
        "random_tensor_2 = torch.rand(3,2)\n",
        "random_tensor_2"
      ],
      "metadata": {
        "colab": {
          "base_uri": "https://localhost:8080/"
        },
        "id": "32jQEvr7bmEe",
        "outputId": "27cb7c82-c81a-4d49-e056-eb79da6451cd"
      },
      "execution_count": 95,
      "outputs": [
        {
          "output_type": "execute_result",
          "data": {
            "text/plain": [
              "tensor([[0.0594, 0.7700],\n",
              "        [0.0422, 0.2707],\n",
              "        [0.7686, 0.7784]])"
            ]
          },
          "metadata": {},
          "execution_count": 95
        }
      ]
    },
    {
      "cell_type": "code",
      "source": [
        "random_tensor_2.ndim"
      ],
      "metadata": {
        "colab": {
          "base_uri": "https://localhost:8080/"
        },
        "id": "9UxaVuymbp4C",
        "outputId": "ee4cb62c-b48b-4f77-8305-3c465039d4e0"
      },
      "execution_count": 96,
      "outputs": [
        {
          "output_type": "execute_result",
          "data": {
            "text/plain": [
              "2"
            ]
          },
          "metadata": {},
          "execution_count": 96
        }
      ]
    },
    {
      "cell_type": "code",
      "source": [
        "random_tensor_3 = torch.rand(4,3,2)\n",
        "random_tensor_3"
      ],
      "metadata": {
        "colab": {
          "base_uri": "https://localhost:8080/"
        },
        "id": "3oyVZYMBbu56",
        "outputId": "268b94ea-51e7-46d8-cc02-04c46e816c7e"
      },
      "execution_count": 97,
      "outputs": [
        {
          "output_type": "execute_result",
          "data": {
            "text/plain": [
              "tensor([[[0.0059, 0.6755],\n",
              "         [0.3445, 0.3043],\n",
              "         [0.9374, 0.3296]],\n",
              "\n",
              "        [[0.8987, 0.9698],\n",
              "         [0.4101, 0.9381],\n",
              "         [0.5840, 0.4190]],\n",
              "\n",
              "        [[0.0780, 0.4708],\n",
              "         [0.1566, 0.0316],\n",
              "         [0.9084, 0.7034]],\n",
              "\n",
              "        [[0.0627, 0.9039],\n",
              "         [0.6695, 0.4734],\n",
              "         [0.1859, 0.0217]]])"
            ]
          },
          "metadata": {},
          "execution_count": 97
        }
      ]
    },
    {
      "cell_type": "code",
      "source": [
        "random_tensor_3.ndim"
      ],
      "metadata": {
        "colab": {
          "base_uri": "https://localhost:8080/"
        },
        "id": "hSRvNyQDb30E",
        "outputId": "f89d586d-1a95-4dd6-f098-f711a5c416a0"
      },
      "execution_count": 98,
      "outputs": [
        {
          "output_type": "execute_result",
          "data": {
            "text/plain": [
              "3"
            ]
          },
          "metadata": {},
          "execution_count": 98
        }
      ]
    },
    {
      "cell_type": "code",
      "source": [
        "random_tensor_4 = torch.rand(3,4,3,2)\n",
        "random_tensor_4"
      ],
      "metadata": {
        "colab": {
          "base_uri": "https://localhost:8080/"
        },
        "id": "Lensgv8vb5wf",
        "outputId": "59541cdf-e2d2-4466-964d-f66f29535878"
      },
      "execution_count": 99,
      "outputs": [
        {
          "output_type": "execute_result",
          "data": {
            "text/plain": [
              "tensor([[[[0.8436, 0.8861],\n",
              "          [0.3504, 0.7127],\n",
              "          [0.0493, 0.8488]],\n",
              "\n",
              "         [[0.4491, 0.5688],\n",
              "          [0.8732, 0.1751],\n",
              "          [0.0725, 0.8186]],\n",
              "\n",
              "         [[0.9026, 0.1331],\n",
              "          [0.9351, 0.9457],\n",
              "          [0.0446, 0.5080]],\n",
              "\n",
              "         [[0.9922, 0.3630],\n",
              "          [0.5585, 0.3199],\n",
              "          [0.1475, 0.5713]]],\n",
              "\n",
              "\n",
              "        [[[0.3809, 0.7077],\n",
              "          [0.8277, 0.0317],\n",
              "          [0.4062, 0.5881]],\n",
              "\n",
              "         [[0.0734, 0.4899],\n",
              "          [0.6438, 0.9493],\n",
              "          [0.2157, 0.6103]],\n",
              "\n",
              "         [[0.3236, 0.6210],\n",
              "          [0.5471, 0.2966],\n",
              "          [0.4601, 0.5985]],\n",
              "\n",
              "         [[0.7926, 0.4070],\n",
              "          [0.5181, 0.8611],\n",
              "          [0.4467, 0.1125]]],\n",
              "\n",
              "\n",
              "        [[[0.1934, 0.3376],\n",
              "          [0.2761, 0.8728],\n",
              "          [0.2999, 0.2290]],\n",
              "\n",
              "         [[0.8844, 0.5041],\n",
              "          [0.9981, 0.3783],\n",
              "          [0.3323, 0.4378]],\n",
              "\n",
              "         [[0.2938, 0.4027],\n",
              "          [0.5122, 0.0305],\n",
              "          [0.8728, 0.7503]],\n",
              "\n",
              "         [[0.7865, 0.4998],\n",
              "          [0.2473, 0.6005],\n",
              "          [0.0882, 0.7954]]]])"
            ]
          },
          "metadata": {},
          "execution_count": 99
        }
      ]
    },
    {
      "cell_type": "code",
      "source": [
        "random_tensor_4.ndim"
      ],
      "metadata": {
        "colab": {
          "base_uri": "https://localhost:8080/"
        },
        "id": "KzYc_eC-cNOT",
        "outputId": "71cf76ce-bff3-41ad-9570-c4b68f39bdfc"
      },
      "execution_count": 100,
      "outputs": [
        {
          "output_type": "execute_result",
          "data": {
            "text/plain": [
              "4"
            ]
          },
          "metadata": {},
          "execution_count": 100
        }
      ]
    },
    {
      "cell_type": "code",
      "source": [
        "# Creating a random tensor with similar shape to an image\n",
        "\n",
        "random_image_size_tensor = torch.rand(size=(224, 224, 3))\n",
        "random_image_size_tensor"
      ],
      "metadata": {
        "id": "vZ-UrOtRgLtd",
        "colab": {
          "base_uri": "https://localhost:8080/"
        },
        "outputId": "7583e439-b5ac-4331-c390-bb82a1b8f86a"
      },
      "execution_count": 101,
      "outputs": [
        {
          "output_type": "execute_result",
          "data": {
            "text/plain": [
              "tensor([[[0.8595, 0.4008, 0.8967],\n",
              "         [0.7720, 0.7060, 0.8395],\n",
              "         [0.2814, 0.2885, 0.1854],\n",
              "         ...,\n",
              "         [0.2170, 0.4469, 0.2311],\n",
              "         [0.6178, 0.1082, 0.7908],\n",
              "         [0.3583, 0.2671, 0.4428]],\n",
              "\n",
              "        [[0.3380, 0.3842, 0.6536],\n",
              "         [0.8187, 0.2855, 0.8192],\n",
              "         [0.9058, 0.7674, 0.3780],\n",
              "         ...,\n",
              "         [0.5733, 0.2590, 0.2574],\n",
              "         [0.9338, 0.1814, 0.7015],\n",
              "         [0.6959, 0.3073, 0.6431]],\n",
              "\n",
              "        [[0.4675, 0.6845, 0.9816],\n",
              "         [0.9610, 0.9905, 0.3758],\n",
              "         [0.7492, 0.2915, 0.7559],\n",
              "         ...,\n",
              "         [0.2225, 0.5635, 0.1634],\n",
              "         [0.2889, 0.8214, 0.6742],\n",
              "         [0.4247, 0.8477, 0.7197]],\n",
              "\n",
              "        ...,\n",
              "\n",
              "        [[0.9077, 0.6820, 0.5478],\n",
              "         [0.8784, 0.5763, 0.1067],\n",
              "         [0.8794, 0.8091, 0.0320],\n",
              "         ...,\n",
              "         [0.9355, 0.4927, 0.2590],\n",
              "         [0.5356, 0.3511, 0.1862],\n",
              "         [0.3064, 0.4527, 0.0616]],\n",
              "\n",
              "        [[0.3324, 0.8111, 0.3112],\n",
              "         [0.4504, 0.2804, 0.8519],\n",
              "         [0.4697, 0.7217, 0.2728],\n",
              "         ...,\n",
              "         [0.8737, 0.7529, 0.3870],\n",
              "         [0.2316, 0.3702, 0.9348],\n",
              "         [0.3803, 0.0185, 0.4617]],\n",
              "\n",
              "        [[0.6642, 0.2817, 0.7771],\n",
              "         [0.1729, 0.8340, 0.8718],\n",
              "         [0.9265, 0.0252, 0.4874],\n",
              "         ...,\n",
              "         [0.5727, 0.4614, 0.7932],\n",
              "         [0.5731, 0.9978, 0.0951],\n",
              "         [0.6896, 0.9115, 0.1725]]])"
            ]
          },
          "metadata": {},
          "execution_count": 101
        }
      ]
    },
    {
      "cell_type": "code",
      "source": [
        "from skimage import io\n",
        "import numpy as np\n",
        "io.imshow(random_image_size_tensor.numpy()) # the io.imshow() function works with NumPy arrays"
      ],
      "metadata": {
        "colab": {
          "base_uri": "https://localhost:8080/",
          "height": 503
        },
        "id": "o-XlMn5wCF-G",
        "outputId": "c07b73a6-b37a-484a-d01c-07378355e2de"
      },
      "execution_count": 102,
      "outputs": [
        {
          "output_type": "execute_result",
          "data": {
            "text/plain": [
              "<matplotlib.image.AxesImage at 0x7bf433cb8e20>"
            ]
          },
          "metadata": {},
          "execution_count": 102
        },
        {
          "output_type": "display_data",
          "data": {
            "text/plain": [
              "<Figure size 640x480 with 1 Axes>"
            ],
            "image/png": "[encoded data removed]"
          },
          "metadata": {}
        }
      ]
    },
    {
      "cell_type": "markdown",
      "source": [
        "## Zeros and ones"
      ],
      "metadata": {
        "id": "LITaQhGVDNTm"
      }
    },
    {
      "cell_type": "code",
      "source": [
        "# tensor of all zeros\n",
        "\n",
        "zeros = torch.zeros(size=(3,2))\n",
        "zeros"
      ],
      "metadata": {
        "colab": {
          "base_uri": "https://localhost:8080/"
        },
        "id": "o4FZmf5FEZc5",
        "outputId": "26e43e5c-ff6f-4307-9f29-dd30b644a969"
      },
      "execution_count": 103,
      "outputs": [
        {
          "output_type": "execute_result",
          "data": {
            "text/plain": [
              "tensor([[0., 0.],\n",
              "        [0., 0.],\n",
              "        [0., 0.]])"
            ]
          },
          "metadata": {},
          "execution_count": 103
        }
      ]
    },
    {
      "cell_type": "code",
      "source": [
        "zeros * random_tensor_2"
      ],
      "metadata": {
        "colab": {
          "base_uri": "https://localhost:8080/"
        },
        "id": "vGQ0UJ1OEhEO",
        "outputId": "f825f998-5005-4aba-a0c0-afd1a98adcba"
      },
      "execution_count": 104,
      "outputs": [
        {
          "output_type": "execute_result",
          "data": {
            "text/plain": [
              "tensor([[0., 0.],\n",
              "        [0., 0.],\n",
              "        [0., 0.]])"
            ]
          },
          "metadata": {},
          "execution_count": 104
        }
      ]
    },
    {
      "cell_type": "code",
      "source": [
        "# tensor of all ones\n",
        "\n",
        "ones = torch.ones(size=(3,4))\n",
        "ones"
      ],
      "metadata": {
        "colab": {
          "base_uri": "https://localhost:8080/"
        },
        "id": "L2fj9WtHEoUh",
        "outputId": "43c83e69-2b16-46d3-b977-07bccf6bdff1"
      },
      "execution_count": 105,
      "outputs": [
        {
          "output_type": "execute_result",
          "data": {
            "text/plain": [
              "tensor([[1., 1., 1., 1.],\n",
              "        [1., 1., 1., 1.],\n",
              "        [1., 1., 1., 1.]])"
            ]
          },
          "metadata": {},
          "execution_count": 105
        }
      ]
    },
    {
      "cell_type": "markdown",
      "source": [
        "## Creating a range of tensors and tensors-like"
      ],
      "metadata": {
        "id": "vknTHPwRGHS-"
      }
    },
    {
      "cell_type": "markdown",
      "source": [
        "### range of tensors"
      ],
      "metadata": {
        "id": "PFucZmblIROE"
      }
    },
    {
      "cell_type": "code",
      "source": [
        "# Using toech.range()\n",
        "\n",
        "torch.range(0, 10) # UserWarning: torch.range is deprecated"
      ],
      "metadata": {
        "colab": {
          "base_uri": "https://localhost:8080/"
        },
        "id": "fSsg4QjlGuaZ",
        "outputId": "656bbc5c-7257-455a-93bb-1964d44a9ae2"
      },
      "execution_count": 106,
      "outputs": [
        {
          "output_type": "stream",
          "name": "stderr",
          "text": [
            "<ipython-input-106-3ae5993a2970>:3: UserWarning: torch.range is deprecated and will be removed in a future release because its behavior is inconsistent with Python's range builtin. Instead, use torch.arange, which produces values in [start, end).\n",
            "  torch.range(0, 10) # UserWarning: torch.range is deprecated\n"
          ]
        },
        {
          "output_type": "execute_result",
          "data": {
            "text/plain": [
              "tensor([ 0.,  1.,  2.,  3.,  4.,  5.,  6.,  7.,  8.,  9., 10.])"
            ]
          },
          "metadata": {},
          "execution_count": 106
        }
      ]
    },
    {
      "cell_type": "code",
      "source": [
        "one_to_ten = torch.arange(1, 11)\n",
        "one_to_ten"
      ],
      "metadata": {
        "colab": {
          "base_uri": "https://localhost:8080/"
        },
        "id": "kfWVbCLzGzxn",
        "outputId": "5a1942d8-3dfe-47d0-a03c-64f65594b7ec"
      },
      "execution_count": 107,
      "outputs": [
        {
          "output_type": "execute_result",
          "data": {
            "text/plain": [
              "tensor([ 1,  2,  3,  4,  5,  6,  7,  8,  9, 10])"
            ]
          },
          "metadata": {},
          "execution_count": 107
        }
      ]
    },
    {
      "cell_type": "code",
      "source": [
        "x = torch.arange(start=0, end=1000, step=77)\n",
        "x"
      ],
      "metadata": {
        "colab": {
          "base_uri": "https://localhost:8080/"
        },
        "id": "GpXf1EqcHBXt",
        "outputId": "292e1b29-db1d-4f41-b0b9-70e5ed0939c5"
      },
      "execution_count": 108,
      "outputs": [
        {
          "output_type": "execute_result",
          "data": {
            "text/plain": [
              "tensor([  0,  77, 154, 231, 308, 385, 462, 539, 616, 693, 770, 847, 924])"
            ]
          },
          "metadata": {},
          "execution_count": 108
        }
      ]
    },
    {
      "cell_type": "code",
      "source": [
        "x = torch.arange(0, 1000, 77)\n",
        "x"
      ],
      "metadata": {
        "colab": {
          "base_uri": "https://localhost:8080/"
        },
        "id": "NVIofV7QHaMf",
        "outputId": "cade8853-b6bf-4803-d949-b258476a2d9b"
      },
      "execution_count": 109,
      "outputs": [
        {
          "output_type": "execute_result",
          "data": {
            "text/plain": [
              "tensor([  0,  77, 154, 231, 308, 385, 462, 539, 616, 693, 770, 847, 924])"
            ]
          },
          "metadata": {},
          "execution_count": 109
        }
      ]
    },
    {
      "cell_type": "markdown",
      "source": [
        "### creating tensors like"
      ],
      "metadata": {
        "id": "uYR8Xrw9Hrp9"
      }
    },
    {
      "cell_type": "code",
      "source": [
        "ten_zeros = torch.zeros_like(input=one_to_ten)\n",
        "ten_zeros"
      ],
      "metadata": {
        "colab": {
          "base_uri": "https://localhost:8080/"
        },
        "id": "9B8548xUH69j",
        "outputId": "ae9353b7-82c1-45e2-a82f-cc673855639e"
      },
      "execution_count": 110,
      "outputs": [
        {
          "output_type": "execute_result",
          "data": {
            "text/plain": [
              "tensor([0, 0, 0, 0, 0, 0, 0, 0, 0, 0])"
            ]
          },
          "metadata": {},
          "execution_count": 110
        }
      ]
    },
    {
      "cell_type": "code",
      "source": [
        "ten_ones = torch.ones_like(input=one_to_ten)\n",
        "ten_ones"
      ],
      "metadata": {
        "colab": {
          "base_uri": "https://localhost:8080/"
        },
        "id": "9c6tTkUEIGfv",
        "outputId": "932e3729-620f-4e16-f0b1-6ea1734a83a7"
      },
      "execution_count": 111,
      "outputs": [
        {
          "output_type": "execute_result",
          "data": {
            "text/plain": [
              "tensor([1, 1, 1, 1, 1, 1, 1, 1, 1, 1])"
            ]
          },
          "metadata": {},
          "execution_count": 111
        }
      ]
    },
    {
      "cell_type": "markdown",
      "source": [
        "## Tensor DataTypes\n",
        "\n"
      ],
      "metadata": {
        "id": "tiH_XxA7I2lZ"
      }
    },
    {
      "cell_type": "code",
      "source": [
        "# float 69 tensor\n",
        "\n",
        "float_32_tensor = torch.tensor([3.0, 6.0, 9.0],\n",
        "                               dtype=None, # float32/float16\n",
        "                               device=None, # cpu/gpu -> what device is my tensor on\n",
        "                               requires_grad=False) # whether or not to track gradients with tis tensors operations\n",
        "float_32_tensor"
      ],
      "metadata": {
        "colab": {
          "base_uri": "https://localhost:8080/"
        },
        "id": "0NYtmxRRJBDX",
        "outputId": "6cc077b0-9ef5-4ab5-cee8-d990607cc9c2"
      },
      "execution_count": 112,
      "outputs": [
        {
          "output_type": "execute_result",
          "data": {
            "text/plain": [
              "tensor([3., 6., 9.])"
            ]
          },
          "metadata": {},
          "execution_count": 112
        }
      ]
    },
    {
      "cell_type": "code",
      "source": [
        "float_32_tensor.dtype # it gives float32 even if we mentioned dtype=None, bcz it's default"
      ],
      "metadata": {
        "colab": {
          "base_uri": "https://localhost:8080/"
        },
        "id": "t-eDaWy3JTcx",
        "outputId": "dbf0d099-cfad-47ba-c46b-f1ca5c25eab7"
      },
      "execution_count": 113,
      "outputs": [
        {
          "output_type": "execute_result",
          "data": {
            "text/plain": [
              "torch.float32"
            ]
          },
          "metadata": {},
          "execution_count": 113
        }
      ]
    },
    {
      "cell_type": "code",
      "source": [
        "float_16_tensor = torch.tensor([3.0, 6.0, 9.0],\n",
        "                               dtype=torch.float16)\n",
        "float_16_tensor"
      ],
      "metadata": {
        "colab": {
          "base_uri": "https://localhost:8080/"
        },
        "id": "AIz9e2E4JcoR",
        "outputId": "c87cdee7-d1bc-41b4-98c6-36c24288e761"
      },
      "execution_count": 114,
      "outputs": [
        {
          "output_type": "execute_result",
          "data": {
            "text/plain": [
              "tensor([3., 6., 9.], dtype=torch.float16)"
            ]
          },
          "metadata": {},
          "execution_count": 114
        }
      ]
    },
    {
      "cell_type": "code",
      "source": [
        "float_16_tensor.dtype"
      ],
      "metadata": {
        "colab": {
          "base_uri": "https://localhost:8080/"
        },
        "id": "pnloqwySJyAe",
        "outputId": "2ab6bc6b-e654-4a81-c424-d0d57293780e"
      },
      "execution_count": 115,
      "outputs": [
        {
          "output_type": "execute_result",
          "data": {
            "text/plain": [
              "torch.float16"
            ]
          },
          "metadata": {},
          "execution_count": 115
        }
      ]
    },
    {
      "cell_type": "code",
      "source": [
        "float_32_tensor * float_16_tensor"
      ],
      "metadata": {
        "colab": {
          "base_uri": "https://localhost:8080/"
        },
        "id": "jcere43aJ2AX",
        "outputId": "43a2d161-ee84-40e5-f9f3-e6cc8cb2f62f"
      },
      "execution_count": 116,
      "outputs": [
        {
          "output_type": "execute_result",
          "data": {
            "text/plain": [
              "tensor([ 9., 36., 81.])"
            ]
          },
          "metadata": {},
          "execution_count": 116
        }
      ]
    },
    {
      "cell_type": "markdown",
      "source": [
        "## Getting Information from tensors (using attributes)\n",
        "\n",
        "**Note:** There are 3 most common errors in Pytorch and Deep learning:\n",
        "1. Tensors ***not right datatype***: to get datatype from a tensor, can use `tensor.dtype`\n",
        "2. Tensors ***not right shape***: to het shape from a tensor, can use `tensor.shape` (attribute) / `tensor.size()` (function)\n",
        "3. Tensors ***not on the right device***: to get device from a tensor, can use `tensor.device`"
      ],
      "metadata": {
        "id": "N2eL-xe3dwBV"
      }
    },
    {
      "cell_type": "code",
      "source": [
        "some_tensor = torch.rand(3, 4)"
      ],
      "metadata": {
        "id": "EU1qliTcef4k"
      },
      "execution_count": 120,
      "outputs": []
    },
    {
      "cell_type": "code",
      "source": [
        "# Getting information\n",
        "\n",
        "print(some_tensor)\n",
        "print(f'Datatype of tensor--> {some_tensor.dtype}')\n",
        "print(f'Shape of tensor--> {some_tensor.shape}')\n",
        "print(f'The tendor in on (device)--> {some_tensor.device}')"
      ],
      "metadata": {
        "colab": {
          "base_uri": "https://localhost:8080/"
        },
        "id": "lJEJk3FHekjN",
        "outputId": "76b98a2c-b856-4e75-fabc-387b98649831"
      },
      "execution_count": 124,
      "outputs": [
        {
          "output_type": "stream",
          "name": "stdout",
          "text": [
            "tensor([[0.4367, 0.8625, 0.9949, 0.3804],\n",
            "        [0.9971, 0.9016, 0.3801, 0.7936],\n",
            "        [0.3784, 0.8754, 0.2598, 0.3838]])\n",
            "Datatype of tensor--> torch.float32\n",
            "Shape of tensor--> torch.Size([3, 4])\n",
            "The tendor in on (device)--> cpu\n"
          ]
        }
      ]
    },
    {
      "cell_type": "markdown",
      "source": [
        "## Manupulationg Tensors (tensor operations)\n",
        "\n",
        "Tenso operations include:\n",
        "* Addition\n",
        "* Subtraction\n",
        "* Multiplication\n",
        "* Division\n",
        "* Matrix Multiplication"
      ],
      "metadata": {
        "id": "4JH345bDf_uv"
      }
    },
    {
      "cell_type": "code",
      "source": [
        "# Addition\n",
        "\n",
        "tensor = torch.tensor([1, 2, 3])\n",
        "tensor + 10"
      ],
      "metadata": {
        "colab": {
          "base_uri": "https://localhost:8080/"
        },
        "id": "zOFPtruvgj9J",
        "outputId": "721c5c45-60b5-40e6-abec-4a0e307064e3"
      },
      "execution_count": 125,
      "outputs": [
        {
          "output_type": "execute_result",
          "data": {
            "text/plain": [
              "tensor([11, 12, 13])"
            ]
          },
          "metadata": {},
          "execution_count": 125
        }
      ]
    },
    {
      "cell_type": "code",
      "source": [
        "# Addition with in-built function\n",
        "\n",
        "torch.add(tensor, 10)"
      ],
      "metadata": {
        "colab": {
          "base_uri": "https://localhost:8080/"
        },
        "id": "1g7mJZvSiDQj",
        "outputId": "9ca7a56c-26a6-4e92-9dfd-e92a3908d436"
      },
      "execution_count": 129,
      "outputs": [
        {
          "output_type": "execute_result",
          "data": {
            "text/plain": [
              "tensor([11, 12, 13])"
            ]
          },
          "metadata": {},
          "execution_count": 129
        }
      ]
    },
    {
      "cell_type": "code",
      "source": [
        "# Multiplication\n",
        "\n",
        "tensor * 10"
      ],
      "metadata": {
        "colab": {
          "base_uri": "https://localhost:8080/"
        },
        "id": "dPkz704FhM5G",
        "outputId": "7b33ac7b-e1f2-43fa-9380-bf2c48f0f0b8"
      },
      "execution_count": 126,
      "outputs": [
        {
          "output_type": "execute_result",
          "data": {
            "text/plain": [
              "tensor([10, 20, 30])"
            ]
          },
          "metadata": {},
          "execution_count": 126
        }
      ]
    },
    {
      "cell_type": "code",
      "source": [
        "# Multiplication with in-built function\n",
        "\n",
        "torch.mul(tensor, 10)"
      ],
      "metadata": {
        "colab": {
          "base_uri": "https://localhost:8080/"
        },
        "id": "nbWbOIMvht__",
        "outputId": "3ea7aa01-172c-431c-e3c8-0a52ac37b056"
      },
      "execution_count": 128,
      "outputs": [
        {
          "output_type": "execute_result",
          "data": {
            "text/plain": [
              "tensor([10, 20, 30])"
            ]
          },
          "metadata": {},
          "execution_count": 128
        }
      ]
    },
    {
      "cell_type": "code",
      "source": [
        "# Substraction\n",
        "\n",
        "tensor - 10"
      ],
      "metadata": {
        "colab": {
          "base_uri": "https://localhost:8080/"
        },
        "id": "hj0Oi85BhXpH",
        "outputId": "844a05de-2523-4f28-ccc6-901536850104"
      },
      "execution_count": 127,
      "outputs": [
        {
          "output_type": "execute_result",
          "data": {
            "text/plain": [
              "tensor([-9, -8, -7])"
            ]
          },
          "metadata": {},
          "execution_count": 127
        }
      ]
    },
    {
      "cell_type": "code",
      "source": [
        "# Substraction with in-built function\n",
        "\n",
        "torch.sub(tensor, 10)"
      ],
      "metadata": {
        "colab": {
          "base_uri": "https://localhost:8080/"
        },
        "id": "9Kpy4QrYide0",
        "outputId": "e0dd3076-eb5c-4723-b6f8-085025250e33"
      },
      "execution_count": 133,
      "outputs": [
        {
          "output_type": "execute_result",
          "data": {
            "text/plain": [
              "tensor([-9, -8, -7])"
            ]
          },
          "metadata": {},
          "execution_count": 133
        }
      ]
    },
    {
      "cell_type": "code",
      "source": [
        "# Division\n",
        "\n",
        "tensor/10"
      ],
      "metadata": {
        "colab": {
          "base_uri": "https://localhost:8080/"
        },
        "id": "o-8Snq0Chlwc",
        "outputId": "214beb72-437a-4011-edcb-1bb3c646d7e5"
      },
      "execution_count": 130,
      "outputs": [
        {
          "output_type": "execute_result",
          "data": {
            "text/plain": [
              "tensor([0.1000, 0.2000, 0.3000])"
            ]
          },
          "metadata": {},
          "execution_count": 130
        }
      ]
    },
    {
      "cell_type": "code",
      "source": [
        "# Division with in-built function\n",
        "\n",
        "torch.div(tensor, 10)"
      ],
      "metadata": {
        "colab": {
          "base_uri": "https://localhost:8080/"
        },
        "id": "jLicCVfviNcz",
        "outputId": "b6a6f075-73b7-4cc4-e763-104987bed818"
      },
      "execution_count": 132,
      "outputs": [
        {
          "output_type": "execute_result",
          "data": {
            "text/plain": [
              "tensor([0.1000, 0.2000, 0.3000])"
            ]
          },
          "metadata": {},
          "execution_count": 132
        }
      ]
    },
    {
      "cell_type": "markdown",
      "source": [
        "## Matrix Multiplication (Dot product)\n",
        "\n",
        "Two main ways of performing multiplication in neural networks and deep learning:\n",
        "1. Element-wise multiplication\n",
        "2. Matrix multiplication (dot product)"
      ],
      "metadata": {
        "id": "p43J8U9ziTvw"
      }
    },
    {
      "cell_type": "code",
      "source": [
        "# Element-wise multiplication\n",
        "\n",
        "print(tensor, \"*\", tensor)\n",
        "print(f\"Equals: {tensor * tensor}\")"
      ],
      "metadata": {
        "colab": {
          "base_uri": "https://localhost:8080/"
        },
        "id": "F5qvqDzrj5hR",
        "outputId": "e0ced5fc-2c42-4911-872b-46ce7e670024"
      },
      "execution_count": 134,
      "outputs": [
        {
          "output_type": "stream",
          "name": "stdout",
          "text": [
            "tensor([1, 2, 3]) * tensor([1, 2, 3])\n",
            "Equals: tensor([1, 4, 9])\n"
          ]
        }
      ]
    },
    {
      "cell_type": "code",
      "source": [
        "# Matrix Multiplication\n",
        "\n",
        "torch.matmul(tensor, tensor)"
      ],
      "metadata": {
        "colab": {
          "base_uri": "https://localhost:8080/"
        },
        "id": "u9RGCQGQkSKG",
        "outputId": "b62bc1b4-c675-41a6-a0ca-7c7d8e6757c6"
      },
      "execution_count": 135,
      "outputs": [
        {
          "output_type": "execute_result",
          "data": {
            "text/plain": [
              "tensor(14)"
            ]
          },
          "metadata": {},
          "execution_count": 135
        }
      ]
    },
    {
      "cell_type": "code",
      "source": [
        "tensor @ tensor"
      ],
      "metadata": {
        "colab": {
          "base_uri": "https://localhost:8080/"
        },
        "id": "pyzuE-tJrDYl",
        "outputId": "45cfcbe8-331a-43af-b494-86cfbca98d7f"
      },
      "execution_count": 138,
      "outputs": [
        {
          "output_type": "execute_result",
          "data": {
            "text/plain": [
              "tensor(14)"
            ]
          },
          "metadata": {},
          "execution_count": 138
        }
      ]
    },
    {
      "cell_type": "code",
      "source": [
        "torch.mm(tensor, tensor)"
      ],
      "metadata": {
        "colab": {
          "base_uri": "https://localhost:8080/",
          "height": 175
        },
        "id": "z-uvJVrYucby",
        "outputId": "de9673f2-6bac-4425-ab94-bf0974d9603f"
      },
      "execution_count": 142,
      "outputs": [
        {
          "output_type": "error",
          "ename": "RuntimeError",
          "evalue": "ignored",
          "traceback": [
            "\u001b[0;31m---------------------------------------------------------------------------\u001b[0m",
            "\u001b[0;31mRuntimeError\u001b[0m                              Traceback (most recent call last)",
            "\u001b[0;32m<ipython-input-142-9ec8e4aa50d8>\u001b[0m in \u001b[0;36m<cell line: 1>\u001b[0;34m()\u001b[0m\n\u001b[0;32m----> 1\u001b[0;31m \u001b[0mtorch\u001b[0m\u001b[0;34m.\u001b[0m\u001b[0mmm\u001b[0m\u001b[0;34m(\u001b[0m\u001b[0mtensor\u001b[0m\u001b[0;34m,\u001b[0m \u001b[0mtensor\u001b[0m\u001b[0;34m)\u001b[0m\u001b[0;34m\u001b[0m\u001b[0;34m\u001b[0m\u001b[0m\n\u001b[0m",
            "\u001b[0;31mRuntimeError\u001b[0m: self must be a matrix"
          ]
        }
      ]
    },
    {
      "cell_type": "code",
      "source": [
        "%%time\n",
        "value = 0\n",
        "for i in range(len(tensor)):\n",
        "    value += tensor[i] * tensor[i]\n",
        "print(value)"
      ],
      "metadata": {
        "colab": {
          "base_uri": "https://localhost:8080/"
        },
        "id": "9_uvD7CCkfjb",
        "outputId": "49255181-14e1-4c24-cd1e-c6bd3c470d40"
      },
      "execution_count": 136,
      "outputs": [
        {
          "output_type": "stream",
          "name": "stdout",
          "text": [
            "tensor(14)\n",
            "CPU times: user 1.65 ms, sys: 1.98 ms, total: 3.63 ms\n",
            "Wall time: 5.4 ms\n"
          ]
        }
      ]
    },
    {
      "cell_type": "code",
      "source": [
        "%%time\n",
        "torch.matmul(tensor, tensor)"
      ],
      "metadata": {
        "colab": {
          "base_uri": "https://localhost:8080/"
        },
        "id": "fN8gI52FlMo8",
        "outputId": "3a589e15-1582-463c-de01-f6a55aba099d"
      },
      "execution_count": 137,
      "outputs": [
        {
          "output_type": "stream",
          "name": "stdout",
          "text": [
            "CPU times: user 888 µs, sys: 0 ns, total: 888 µs\n",
            "Wall time: 803 µs\n"
          ]
        },
        {
          "output_type": "execute_result",
          "data": {
            "text/plain": [
              "tensor(14)"
            ]
          },
          "metadata": {},
          "execution_count": 137
        }
      ]
    },
    {
      "cell_type": "markdown",
      "source": [
        "`Dimentions must match in order to perfrom matrix multiplication`"
      ],
      "metadata": {
        "id": "3D7fsJkElQnO"
      }
    },
    {
      "cell_type": "code",
      "source": [
        "tensor1 = torch.rand(3,2)\n",
        "tensor2 = torch.rand(3,2)"
      ],
      "metadata": {
        "id": "TIGNFyN3tyaR"
      },
      "execution_count": 139,
      "outputs": []
    },
    {
      "cell_type": "code",
      "source": [
        "# Won't work\n",
        "\n",
        "torch.matmul(tensor1, tensor2)"
      ],
      "metadata": {
        "colab": {
          "base_uri": "https://localhost:8080/",
          "height": 210
        },
        "id": "frwhngHLuCCO",
        "outputId": "f83d5289-28b4-45f3-d3d8-e234d7de743d"
      },
      "execution_count": 140,
      "outputs": [
        {
          "output_type": "error",
          "ename": "RuntimeError",
          "evalue": "ignored",
          "traceback": [
            "\u001b[0;31m---------------------------------------------------------------------------\u001b[0m",
            "\u001b[0;31mRuntimeError\u001b[0m                              Traceback (most recent call last)",
            "\u001b[0;32m<ipython-input-140-3075675c4805>\u001b[0m in \u001b[0;36m<cell line: 3>\u001b[0;34m()\u001b[0m\n\u001b[1;32m      1\u001b[0m \u001b[0;31m# Won't work\u001b[0m\u001b[0;34m\u001b[0m\u001b[0;34m\u001b[0m\u001b[0m\n\u001b[1;32m      2\u001b[0m \u001b[0;34m\u001b[0m\u001b[0m\n\u001b[0;32m----> 3\u001b[0;31m \u001b[0mtorch\u001b[0m\u001b[0;34m.\u001b[0m\u001b[0mmatmul\u001b[0m\u001b[0;34m(\u001b[0m\u001b[0mtensor1\u001b[0m\u001b[0;34m,\u001b[0m \u001b[0mtensor2\u001b[0m\u001b[0;34m)\u001b[0m\u001b[0;34m\u001b[0m\u001b[0;34m\u001b[0m\u001b[0m\n\u001b[0m",
            "\u001b[0;31mRuntimeError\u001b[0m: mat1 and mat2 shapes cannot be multiplied (3x2 and 3x2)"
          ]
        }
      ]
    },
    {
      "cell_type": "code",
      "source": [
        "# Will work (after matching dimention)\n",
        "\n",
        "torch.mm(tensor1.T, tensor2)"
      ],
      "metadata": {
        "colab": {
          "base_uri": "https://localhost:8080/"
        },
        "id": "GJffvb2EuKgb",
        "outputId": "c9c79bde-c50f-4a79-beae-2f38243f6da6"
      },
      "execution_count": 143,
      "outputs": [
        {
          "output_type": "execute_result",
          "data": {
            "text/plain": [
              "tensor([[0.5383, 0.8861],\n",
              "        [0.6724, 1.1270]])"
            ]
          },
          "metadata": {},
          "execution_count": 143
        }
      ]
    },
    {
      "cell_type": "markdown",
      "source": [
        "## Finding min, max, mean, sum (tensor aggrigation)"
      ],
      "metadata": {
        "id": "RlYys2_5uZsf"
      }
    },
    {
      "cell_type": "code",
      "source": [
        "# Creating a tensor\n",
        "\n",
        "x =  torch.arange(0, 100, 10)\n",
        "x"
      ],
      "metadata": {
        "colab": {
          "base_uri": "https://localhost:8080/"
        },
        "id": "tvM5AewovD2f",
        "outputId": "2096d142-1286-4a65-ecfb-f0b53faea4b6"
      },
      "execution_count": 155,
      "outputs": [
        {
          "output_type": "execute_result",
          "data": {
            "text/plain": [
              "tensor([ 0, 10, 20, 30, 40, 50, 60, 70, 80, 90])"
            ]
          },
          "metadata": {},
          "execution_count": 155
        }
      ]
    },
    {
      "cell_type": "code",
      "source": [
        "# min\n",
        "\n",
        "torch.min(x)"
      ],
      "metadata": {
        "colab": {
          "base_uri": "https://localhost:8080/"
        },
        "id": "yr8LXndsvHQE",
        "outputId": "2d74b206-ac75-425e-a7d9-ad3037d1723c"
      },
      "execution_count": 156,
      "outputs": [
        {
          "output_type": "execute_result",
          "data": {
            "text/plain": [
              "tensor(0)"
            ]
          },
          "metadata": {},
          "execution_count": 156
        }
      ]
    },
    {
      "cell_type": "code",
      "source": [
        "x.min()"
      ],
      "metadata": {
        "colab": {
          "base_uri": "https://localhost:8080/"
        },
        "id": "P2yCOAvbvVE2",
        "outputId": "66021dd7-23b1-4a27-d40d-3a2b9ca48a67"
      },
      "execution_count": 157,
      "outputs": [
        {
          "output_type": "execute_result",
          "data": {
            "text/plain": [
              "tensor(0)"
            ]
          },
          "metadata": {},
          "execution_count": 157
        }
      ]
    },
    {
      "cell_type": "code",
      "source": [
        "# max\n",
        "\n",
        "torch.max(x)"
      ],
      "metadata": {
        "colab": {
          "base_uri": "https://localhost:8080/"
        },
        "id": "jnNKYlLCvXdn",
        "outputId": "7ade9682-302a-4249-95d4-9a12f8786f4f"
      },
      "execution_count": 158,
      "outputs": [
        {
          "output_type": "execute_result",
          "data": {
            "text/plain": [
              "tensor(90)"
            ]
          },
          "metadata": {},
          "execution_count": 158
        }
      ]
    },
    {
      "cell_type": "code",
      "source": [
        "x.max()"
      ],
      "metadata": {
        "colab": {
          "base_uri": "https://localhost:8080/"
        },
        "id": "JkeAIhsQvcIo",
        "outputId": "ca11d113-00d3-4a64-86e7-98b5de87573c"
      },
      "execution_count": 159,
      "outputs": [
        {
          "output_type": "execute_result",
          "data": {
            "text/plain": [
              "tensor(90)"
            ]
          },
          "metadata": {},
          "execution_count": 159
        }
      ]
    },
    {
      "cell_type": "code",
      "source": [
        "# mean\n",
        "\n",
        "torch.mean(x) # will give error because torch.mean() cant work on 'int64' or 'Long'\n",
        "              # Input dtype must be either a 'floating point' or 'complex' dtype"
      ],
      "metadata": {
        "colab": {
          "base_uri": "https://localhost:8080/",
          "height": 245
        },
        "id": "tOpHKxouvemq",
        "outputId": "6734a3ea-ea42-46dd-af88-ce63d848f70c"
      },
      "execution_count": 160,
      "outputs": [
        {
          "output_type": "error",
          "ename": "RuntimeError",
          "evalue": "ignored",
          "traceback": [
            "\u001b[0;31m---------------------------------------------------------------------------\u001b[0m",
            "\u001b[0;31mRuntimeError\u001b[0m                              Traceback (most recent call last)",
            "\u001b[0;32m<ipython-input-160-51e60dd8a341>\u001b[0m in \u001b[0;36m<cell line: 3>\u001b[0;34m()\u001b[0m\n\u001b[1;32m      1\u001b[0m \u001b[0;31m# mean\u001b[0m\u001b[0;34m\u001b[0m\u001b[0;34m\u001b[0m\u001b[0m\n\u001b[1;32m      2\u001b[0m \u001b[0;34m\u001b[0m\u001b[0m\n\u001b[0;32m----> 3\u001b[0;31m \u001b[0mtorch\u001b[0m\u001b[0;34m.\u001b[0m\u001b[0mmean\u001b[0m\u001b[0;34m(\u001b[0m\u001b[0mx\u001b[0m\u001b[0;34m)\u001b[0m \u001b[0;31m# will give error because torch.mean() cant work on int64\u001b[0m\u001b[0;34m\u001b[0m\u001b[0;34m\u001b[0m\u001b[0m\n\u001b[0m\u001b[1;32m      4\u001b[0m               \u001b[0;31m# Input dtype must be either a floating point or complex dtype\u001b[0m\u001b[0;34m\u001b[0m\u001b[0;34m\u001b[0m\u001b[0m\n",
            "\u001b[0;31mRuntimeError\u001b[0m: mean(): could not infer output dtype. Input dtype must be either a floating point or complex dtype. Got: Long"
          ]
        }
      ]
    },
    {
      "cell_type": "code",
      "source": [
        "x.dtype"
      ],
      "metadata": {
        "colab": {
          "base_uri": "https://localhost:8080/"
        },
        "id": "zmi0BDYNvv13",
        "outputId": "68ef8c6c-4b0e-481f-9160-92e2197929a9"
      },
      "execution_count": 161,
      "outputs": [
        {
          "output_type": "execute_result",
          "data": {
            "text/plain": [
              "torch.int64"
            ]
          },
          "metadata": {},
          "execution_count": 161
        }
      ]
    },
    {
      "cell_type": "code",
      "source": [
        "torch.mean(x.type(torch.float32))"
      ],
      "metadata": {
        "colab": {
          "base_uri": "https://localhost:8080/"
        },
        "id": "5DkLy632v62-",
        "outputId": "6cf82c6d-a531-441b-f03d-092ce3a2a823"
      },
      "execution_count": 162,
      "outputs": [
        {
          "output_type": "execute_result",
          "data": {
            "text/plain": [
              "tensor(45.)"
            ]
          },
          "metadata": {},
          "execution_count": 162
        }
      ]
    },
    {
      "cell_type": "code",
      "source": [
        "x.type(torch.float32).mean()"
      ],
      "metadata": {
        "colab": {
          "base_uri": "https://localhost:8080/"
        },
        "id": "qbQ4dO2gwUM9",
        "outputId": "ed90a358-207f-4cbb-9fb6-bcdd71614834"
      },
      "execution_count": 163,
      "outputs": [
        {
          "output_type": "execute_result",
          "data": {
            "text/plain": [
              "tensor(45.)"
            ]
          },
          "metadata": {},
          "execution_count": 163
        }
      ]
    },
    {
      "cell_type": "code",
      "source": [
        "x.dtype"
      ],
      "metadata": {
        "colab": {
          "base_uri": "https://localhost:8080/"
        },
        "id": "_00Me2JJwuY1",
        "outputId": "6ea43960-9e5b-4275-fcea-dc30a90ad3b0"
      },
      "execution_count": 164,
      "outputs": [
        {
          "output_type": "execute_result",
          "data": {
            "text/plain": [
              "torch.int64"
            ]
          },
          "metadata": {},
          "execution_count": 164
        }
      ]
    },
    {
      "cell_type": "code",
      "source": [
        "x.type(torch.float32).dtype"
      ],
      "metadata": {
        "colab": {
          "base_uri": "https://localhost:8080/"
        },
        "id": "ANxn3-BJwxbu",
        "outputId": "67348862-7f5b-45b0-885e-2486eaa50178"
      },
      "execution_count": 165,
      "outputs": [
        {
          "output_type": "execute_result",
          "data": {
            "text/plain": [
              "torch.float32"
            ]
          },
          "metadata": {},
          "execution_count": 165
        }
      ]
    },
    {
      "cell_type": "code",
      "source": [],
      "metadata": {
        "id": "Sj4lLcqyw0fE"
      },
      "execution_count": null,
      "outputs": []
    }
  ]
}