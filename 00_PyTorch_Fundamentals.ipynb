{
  "nbformat": 4,
  "nbformat_minor": 0,
  "metadata": {
    "colab": {
      "provenance": [],
      "toc_visible": true,
      "authorship_tag": "ABX9TyOvkyLRJTpoSnSrOAorPKvB"
    },
    "kernelspec": {
      "name": "python3",
      "display_name": "Python 3"
    },
    "language_info": {
      "name": "python"
    }
  },
  "cells": [
    {
      "cell_type": "code",
      "source": [
        "import pandas as pd\n",
        "import numpy as np\n",
        "import matplotlib.pyplot as plt\n",
        "import torch\n",
        "print(torch.__version__)"
      ],
      "metadata": {
        "colab": {
          "base_uri": "https://localhost:8080/"
        },
        "id": "XkbX-w9k9EYv",
        "outputId": "250a7bb7-0685-4be8-e80c-003831e18ae7"
      },
      "execution_count": 1,
      "outputs": [
        {
          "output_type": "stream",
          "name": "stdout",
          "text": [
            "2.1.0+cu121\n"
          ]
        }
      ]
    },
    {
      "cell_type": "markdown",
      "source": [
        "## Introduction to Tensors\n",
        "\n",
        "### Creating tensors"
      ],
      "metadata": {
        "id": "k72cO6MV9XAB"
      }
    },
    {
      "cell_type": "markdown",
      "source": [
        "#### **scalar**\n"
      ],
      "metadata": {
        "id": "v6af1zoXRyfL"
      }
    },
    {
      "cell_type": "code",
      "source": [
        "scalar = torch.tensor(7)\n",
        "scalar"
      ],
      "metadata": {
        "colab": {
          "base_uri": "https://localhost:8080/"
        },
        "id": "8-vlz843DMMi",
        "outputId": "62b78da6-7878-44e7-c5f0-b0361820e03a"
      },
      "execution_count": 2,
      "outputs": [
        {
          "output_type": "execute_result",
          "data": {
            "text/plain": [
              "tensor(7)"
            ]
          },
          "metadata": {},
          "execution_count": 2
        }
      ]
    },
    {
      "cell_type": "code",
      "source": [
        "scalar.ndim"
      ],
      "metadata": {
        "colab": {
          "base_uri": "https://localhost:8080/"
        },
        "id": "PU8E52TdEXly",
        "outputId": "ef8f8234-d12d-4927-f11f-82fd7d691187"
      },
      "execution_count": 3,
      "outputs": [
        {
          "output_type": "execute_result",
          "data": {
            "text/plain": [
              "0"
            ]
          },
          "metadata": {},
          "execution_count": 3
        }
      ]
    },
    {
      "cell_type": "code",
      "source": [
        "scalar.shape"
      ],
      "metadata": {
        "colab": {
          "base_uri": "https://localhost:8080/"
        },
        "id": "qaIgcpYfJX4y",
        "outputId": "8ad95377-e97a-431b-b515-58234bb9738d"
      },
      "execution_count": 4,
      "outputs": [
        {
          "output_type": "execute_result",
          "data": {
            "text/plain": [
              "torch.Size([])"
            ]
          },
          "metadata": {},
          "execution_count": 4
        }
      ]
    },
    {
      "cell_type": "code",
      "source": [
        "# Get tensor back as Python int\n",
        "\n",
        "scalar.item()"
      ],
      "metadata": {
        "colab": {
          "base_uri": "https://localhost:8080/"
        },
        "id": "jOcmbjmOGAta",
        "outputId": "b0680ddc-ec01-4f0c-b86e-659e8d33a495"
      },
      "execution_count": 5,
      "outputs": [
        {
          "output_type": "execute_result",
          "data": {
            "text/plain": [
              "7"
            ]
          },
          "metadata": {},
          "execution_count": 5
        }
      ]
    },
    {
      "cell_type": "markdown",
      "source": [
        "#### **Vector**"
      ],
      "metadata": {
        "id": "vEjKafbmR-e7"
      }
    },
    {
      "cell_type": "code",
      "source": [
        "vector1 = torch.tensor([7])\n",
        "vector1"
      ],
      "metadata": {
        "colab": {
          "base_uri": "https://localhost:8080/"
        },
        "id": "UDHq190RGcVf",
        "outputId": "a8efc2da-12ac-488e-a716-3ff5ecaebc04"
      },
      "execution_count": 6,
      "outputs": [
        {
          "output_type": "execute_result",
          "data": {
            "text/plain": [
              "tensor([7])"
            ]
          },
          "metadata": {},
          "execution_count": 6
        }
      ]
    },
    {
      "cell_type": "code",
      "source": [
        "vector1.ndim"
      ],
      "metadata": {
        "colab": {
          "base_uri": "https://localhost:8080/"
        },
        "id": "vwNQp7ohHHoC",
        "outputId": "a05961d2-c67c-47b2-9782-11513adf69cf"
      },
      "execution_count": 7,
      "outputs": [
        {
          "output_type": "execute_result",
          "data": {
            "text/plain": [
              "1"
            ]
          },
          "metadata": {},
          "execution_count": 7
        }
      ]
    },
    {
      "cell_type": "code",
      "source": [
        "vector1.shape # [how_many_scalar]"
      ],
      "metadata": {
        "colab": {
          "base_uri": "https://localhost:8080/"
        },
        "id": "KRKzHiOLHYyx",
        "outputId": "d8182137-5c5b-4eff-b457-b657dcf22fb1"
      },
      "execution_count": 8,
      "outputs": [
        {
          "output_type": "execute_result",
          "data": {
            "text/plain": [
              "torch.Size([1])"
            ]
          },
          "metadata": {},
          "execution_count": 8
        }
      ]
    },
    {
      "cell_type": "code",
      "source": [
        "vector = torch.tensor([7,7])"
      ],
      "metadata": {
        "id": "fIQno-7jG7pg"
      },
      "execution_count": 9,
      "outputs": []
    },
    {
      "cell_type": "code",
      "source": [
        "vector.ndim"
      ],
      "metadata": {
        "colab": {
          "base_uri": "https://localhost:8080/"
        },
        "id": "S7gFVNOFHK_U",
        "outputId": "5a9798a3-2218-497a-f39b-d8d9b88a1321"
      },
      "execution_count": 10,
      "outputs": [
        {
          "output_type": "execute_result",
          "data": {
            "text/plain": [
              "1"
            ]
          },
          "metadata": {},
          "execution_count": 10
        }
      ]
    },
    {
      "cell_type": "code",
      "source": [
        "vector.shape # [how_many_scalar]"
      ],
      "metadata": {
        "colab": {
          "base_uri": "https://localhost:8080/"
        },
        "id": "cX8qKYm6HNzP",
        "outputId": "701fc676-7dd1-4428-f770-c05f2e6016d4"
      },
      "execution_count": 11,
      "outputs": [
        {
          "output_type": "execute_result",
          "data": {
            "text/plain": [
              "torch.Size([2])"
            ]
          },
          "metadata": {},
          "execution_count": 11
        }
      ]
    },
    {
      "cell_type": "markdown",
      "source": [
        "#### **MATRIX**"
      ],
      "metadata": {
        "id": "fY9mXcTXSIzj"
      }
    },
    {
      "cell_type": "code",
      "source": [
        "MATRIX = torch.tensor([[7,8],\n",
        "                      [9,10],\n",
        "                       [5,7]])\n",
        "MATRIX"
      ],
      "metadata": {
        "colab": {
          "base_uri": "https://localhost:8080/"
        },
        "id": "0kYVCQ7VHeu4",
        "outputId": "5faea37b-723c-457f-dd22-e622052b22e1"
      },
      "execution_count": 12,
      "outputs": [
        {
          "output_type": "execute_result",
          "data": {
            "text/plain": [
              "tensor([[ 7,  8],\n",
              "        [ 9, 10],\n",
              "        [ 5,  7]])"
            ]
          },
          "metadata": {},
          "execution_count": 12
        }
      ]
    },
    {
      "cell_type": "code",
      "source": [
        "MATRIX.ndim"
      ],
      "metadata": {
        "colab": {
          "base_uri": "https://localhost:8080/"
        },
        "id": "O9v_v2bxH1cF",
        "outputId": "aef8774a-2a53-45eb-ef54-10e67a7b9f21"
      },
      "execution_count": 13,
      "outputs": [
        {
          "output_type": "execute_result",
          "data": {
            "text/plain": [
              "2"
            ]
          },
          "metadata": {},
          "execution_count": 13
        }
      ]
    },
    {
      "cell_type": "code",
      "source": [
        "MATRIX.shape # [row, column]  /  [how_many_VECTOR, scalar_in_each_VECTOR]"
      ],
      "metadata": {
        "colab": {
          "base_uri": "https://localhost:8080/"
        },
        "id": "PfinMs63I98P",
        "outputId": "63dc85b7-6810-410a-f6ce-aff4b239c174"
      },
      "execution_count": 14,
      "outputs": [
        {
          "output_type": "execute_result",
          "data": {
            "text/plain": [
              "torch.Size([3, 2])"
            ]
          },
          "metadata": {},
          "execution_count": 14
        }
      ]
    },
    {
      "cell_type": "code",
      "source": [
        "MATRIX[0] # is a vector"
      ],
      "metadata": {
        "colab": {
          "base_uri": "https://localhost:8080/"
        },
        "id": "e_mpgorOTWFc",
        "outputId": "b0153886-6064-4db7-fa41-8bb149c04e9b"
      },
      "execution_count": 15,
      "outputs": [
        {
          "output_type": "execute_result",
          "data": {
            "text/plain": [
              "tensor([7, 8])"
            ]
          },
          "metadata": {},
          "execution_count": 15
        }
      ]
    },
    {
      "cell_type": "code",
      "source": [
        "MATRIX[0].shape"
      ],
      "metadata": {
        "colab": {
          "base_uri": "https://localhost:8080/"
        },
        "id": "p2V_dOQ_TbE7",
        "outputId": "e77c8d1d-1eb1-4618-94a2-e7857f50a48c"
      },
      "execution_count": 16,
      "outputs": [
        {
          "output_type": "execute_result",
          "data": {
            "text/plain": [
              "torch.Size([2])"
            ]
          },
          "metadata": {},
          "execution_count": 16
        }
      ]
    },
    {
      "cell_type": "markdown",
      "source": [
        "### **TENSOR**"
      ],
      "metadata": {
        "id": "0Z8W0737SU3S"
      }
    },
    {
      "cell_type": "code",
      "source": [
        "TENSOR = torch.tensor([[[1, 2, 3],\n",
        "                        [3, 6, 9],\n",
        "                        [2, 4, 5]]])\n",
        "TENSOR"
      ],
      "metadata": {
        "colab": {
          "base_uri": "https://localhost:8080/"
        },
        "id": "9zc8026xJLV5",
        "outputId": "72ef5013-7007-4576-ceb7-235e000096e6"
      },
      "execution_count": 17,
      "outputs": [
        {
          "output_type": "execute_result",
          "data": {
            "text/plain": [
              "tensor([[[1, 2, 3],\n",
              "         [3, 6, 9],\n",
              "         [2, 4, 5]]])"
            ]
          },
          "metadata": {},
          "execution_count": 17
        }
      ]
    },
    {
      "cell_type": "code",
      "source": [
        "TENSOR.ndim"
      ],
      "metadata": {
        "colab": {
          "base_uri": "https://localhost:8080/"
        },
        "id": "FiVsJK5Blw3t",
        "outputId": "21cd36f2-c8d1-428e-9736-c0c2df4ac1b1"
      },
      "execution_count": 18,
      "outputs": [
        {
          "output_type": "execute_result",
          "data": {
            "text/plain": [
              "3"
            ]
          },
          "metadata": {},
          "execution_count": 18
        }
      ]
    },
    {
      "cell_type": "code",
      "source": [
        "TENSOR.shape # [how_many_MATRIX, each_MATRIX_row, each_MATRIX_column]"
      ],
      "metadata": {
        "id": "peb_Ive1l0Yk",
        "outputId": "f1d7a041-d971-4caa-b0e1-33743c656e56",
        "colab": {
          "base_uri": "https://localhost:8080/"
        }
      },
      "execution_count": 19,
      "outputs": [
        {
          "output_type": "execute_result",
          "data": {
            "text/plain": [
              "torch.Size([1, 3, 3])"
            ]
          },
          "metadata": {},
          "execution_count": 19
        }
      ]
    },
    {
      "cell_type": "code",
      "source": [
        "TENSOR1 = torch.tensor([[[1, 2, 3],\n",
        "                        [3, 6, 9],\n",
        "                        [2, 4, 5]],\n",
        "                       [[4, 2, 3],\n",
        "                        [3, 3, 9],\n",
        "                        [2, 4, 6]]])\n",
        "TENSOR1"
      ],
      "metadata": {
        "colab": {
          "base_uri": "https://localhost:8080/"
        },
        "id": "65VAtCfRYSvC",
        "outputId": "6f7dbccd-df2d-42b1-89ed-782d1516bcf8"
      },
      "execution_count": 20,
      "outputs": [
        {
          "output_type": "execute_result",
          "data": {
            "text/plain": [
              "tensor([[[1, 2, 3],\n",
              "         [3, 6, 9],\n",
              "         [2, 4, 5]],\n",
              "\n",
              "        [[4, 2, 3],\n",
              "         [3, 3, 9],\n",
              "         [2, 4, 6]]])"
            ]
          },
          "metadata": {},
          "execution_count": 20
        }
      ]
    },
    {
      "cell_type": "code",
      "source": [
        "TENSOR1.ndim"
      ],
      "metadata": {
        "colab": {
          "base_uri": "https://localhost:8080/"
        },
        "id": "fZewphiGYYf1",
        "outputId": "2f34f4c2-071e-4a78-c780-91e443d91b3c"
      },
      "execution_count": 21,
      "outputs": [
        {
          "output_type": "execute_result",
          "data": {
            "text/plain": [
              "3"
            ]
          },
          "metadata": {},
          "execution_count": 21
        }
      ]
    },
    {
      "cell_type": "code",
      "source": [
        "TENSOR1.shape # [how_many_MATRIX, each_MATRIX_row, each_MATRIX_column]"
      ],
      "metadata": {
        "colab": {
          "base_uri": "https://localhost:8080/"
        },
        "id": "60OrM_iLYcPi",
        "outputId": "70069e1d-d955-4e1c-b9a2-9ad08b77854b"
      },
      "execution_count": 22,
      "outputs": [
        {
          "output_type": "execute_result",
          "data": {
            "text/plain": [
              "torch.Size([2, 3, 3])"
            ]
          },
          "metadata": {},
          "execution_count": 22
        }
      ]
    },
    {
      "cell_type": "code",
      "source": [
        "TENSOR2 = torch.tensor([[[[1, 2, 3],\n",
        "                        [3, 6, 9],\n",
        "                        [2, 4, 5]],\n",
        "                       [[4, 2, 3],\n",
        "                        [3, 3, 9],\n",
        "                        [2, 4, 6]]],\n",
        "\n",
        "                        [[[9, 2, 3],\n",
        "                        [3, 4, 9],\n",
        "                        [2, 4, 5]],\n",
        "                       [[4, 9, 3],\n",
        "                        [3, 5, 9],\n",
        "                        [2, 4, 6]]]])\n",
        "TENSOR2"
      ],
      "metadata": {
        "id": "NkOGiUA9l5B5",
        "colab": {
          "base_uri": "https://localhost:8080/"
        },
        "outputId": "7ddc409d-988c-4205-91ed-46a00447b1e3"
      },
      "execution_count": 23,
      "outputs": [
        {
          "output_type": "execute_result",
          "data": {
            "text/plain": [
              "tensor([[[[1, 2, 3],\n",
              "          [3, 6, 9],\n",
              "          [2, 4, 5]],\n",
              "\n",
              "         [[4, 2, 3],\n",
              "          [3, 3, 9],\n",
              "          [2, 4, 6]]],\n",
              "\n",
              "\n",
              "        [[[9, 2, 3],\n",
              "          [3, 4, 9],\n",
              "          [2, 4, 5]],\n",
              "\n",
              "         [[4, 9, 3],\n",
              "          [3, 5, 9],\n",
              "          [2, 4, 6]]]])"
            ]
          },
          "metadata": {},
          "execution_count": 23
        }
      ]
    },
    {
      "cell_type": "code",
      "source": [
        "TENSOR2.ndim"
      ],
      "metadata": {
        "colab": {
          "base_uri": "https://localhost:8080/"
        },
        "id": "SRiCB5skUA5b",
        "outputId": "eb6ada62-5dbf-42c4-98ce-8808810ffa96"
      },
      "execution_count": 24,
      "outputs": [
        {
          "output_type": "execute_result",
          "data": {
            "text/plain": [
              "4"
            ]
          },
          "metadata": {},
          "execution_count": 24
        }
      ]
    },
    {
      "cell_type": "code",
      "source": [
        "TENSOR2.shape # [how_many_TENSOR, how_many_MATRIX_in_each_TENSOR, each_MATRIX_row, each_MATRIX_column]"
      ],
      "metadata": {
        "colab": {
          "base_uri": "https://localhost:8080/"
        },
        "id": "lx0UMZ0TUBMQ",
        "outputId": "01275a18-59d6-4f86-fc93-b0e987da6b0e"
      },
      "execution_count": 25,
      "outputs": [
        {
          "output_type": "execute_result",
          "data": {
            "text/plain": [
              "torch.Size([2, 2, 3, 3])"
            ]
          },
          "metadata": {},
          "execution_count": 25
        }
      ]
    },
    {
      "cell_type": "markdown",
      "source": [
        "`scalar(ndim=0) --> vector(ndim=1) --> MATRIX(ndim=2) --> TENSOR(ndim=3)`"
      ],
      "metadata": {
        "id": "ByEuHtZcUC52"
      }
    },
    {
      "cell_type": "markdown",
      "source": [
        "## Random tensors\n",
        "\n",
        "* *Why random tensors?*\n",
        " > **Random tensors** are important beacause the way many Neural Networks learn is that, it **starts with some random tensors full of random weights (numbers)** and then adjust those random weights to better represent the data.  "
      ],
      "metadata": {
        "id": "TV4F62XrZIJr"
      }
    },
    {
      "cell_type": "code",
      "source": [
        "random_tensor_1 = torch.rand(3)\n",
        "random_tensor_1"
      ],
      "metadata": {
        "colab": {
          "base_uri": "https://localhost:8080/"
        },
        "id": "KwDiWz5aUnB0",
        "outputId": "09a4663e-e9bb-466b-90dd-506a97d0a00d"
      },
      "execution_count": 26,
      "outputs": [
        {
          "output_type": "execute_result",
          "data": {
            "text/plain": [
              "tensor([0.5618, 0.2639, 0.5608])"
            ]
          },
          "metadata": {},
          "execution_count": 26
        }
      ]
    },
    {
      "cell_type": "code",
      "source": [
        "random_tensor_1.ndim"
      ],
      "metadata": {
        "colab": {
          "base_uri": "https://localhost:8080/"
        },
        "id": "Fqt2jDklbkU-",
        "outputId": "f97df6e6-cd7b-43e3-d3b3-5515c07fbbc2"
      },
      "execution_count": 27,
      "outputs": [
        {
          "output_type": "execute_result",
          "data": {
            "text/plain": [
              "1"
            ]
          },
          "metadata": {},
          "execution_count": 27
        }
      ]
    },
    {
      "cell_type": "code",
      "source": [
        "random_tensor_2 = torch.rand(3,2)\n",
        "random_tensor_2"
      ],
      "metadata": {
        "colab": {
          "base_uri": "https://localhost:8080/"
        },
        "id": "32jQEvr7bmEe",
        "outputId": "9e7d0a85-78b8-499d-d9c0-ec1f7432d894"
      },
      "execution_count": 28,
      "outputs": [
        {
          "output_type": "execute_result",
          "data": {
            "text/plain": [
              "tensor([[0.7038, 0.1816],\n",
              "        [0.0465, 0.1681],\n",
              "        [0.1914, 0.5025]])"
            ]
          },
          "metadata": {},
          "execution_count": 28
        }
      ]
    },
    {
      "cell_type": "code",
      "source": [
        "random_tensor_2.ndim"
      ],
      "metadata": {
        "colab": {
          "base_uri": "https://localhost:8080/"
        },
        "id": "9UxaVuymbp4C",
        "outputId": "fbb4deaf-3c95-4453-b681-6045a1c85599"
      },
      "execution_count": 29,
      "outputs": [
        {
          "output_type": "execute_result",
          "data": {
            "text/plain": [
              "2"
            ]
          },
          "metadata": {},
          "execution_count": 29
        }
      ]
    },
    {
      "cell_type": "code",
      "source": [
        "random_tensor_3 = torch.rand(4,3,2)\n",
        "random_tensor_3"
      ],
      "metadata": {
        "colab": {
          "base_uri": "https://localhost:8080/"
        },
        "id": "3oyVZYMBbu56",
        "outputId": "e12eaf48-4194-4498-a8ac-2ba4c9f39e8a"
      },
      "execution_count": 30,
      "outputs": [
        {
          "output_type": "execute_result",
          "data": {
            "text/plain": [
              "tensor([[[0.5935, 0.8174],\n",
              "         [0.8823, 0.3033],\n",
              "         [0.9363, 0.6231]],\n",
              "\n",
              "        [[0.9145, 0.1593],\n",
              "         [0.2374, 0.1016],\n",
              "         [0.7455, 0.3778]],\n",
              "\n",
              "        [[0.7549, 0.5196],\n",
              "         [0.8156, 0.3615],\n",
              "         [0.4531, 0.1700]],\n",
              "\n",
              "        [[0.3475, 0.7862],\n",
              "         [0.2021, 0.4709],\n",
              "         [0.0591, 0.7164]]])"
            ]
          },
          "metadata": {},
          "execution_count": 30
        }
      ]
    },
    {
      "cell_type": "code",
      "source": [
        "random_tensor_3.ndim"
      ],
      "metadata": {
        "colab": {
          "base_uri": "https://localhost:8080/"
        },
        "id": "hSRvNyQDb30E",
        "outputId": "8314ffa7-d4a4-4026-f7d0-3e996d059c02"
      },
      "execution_count": 31,
      "outputs": [
        {
          "output_type": "execute_result",
          "data": {
            "text/plain": [
              "3"
            ]
          },
          "metadata": {},
          "execution_count": 31
        }
      ]
    },
    {
      "cell_type": "code",
      "source": [
        "random_tensor_4 = torch.rand(3,4,3,2)\n",
        "random_tensor_4"
      ],
      "metadata": {
        "colab": {
          "base_uri": "https://localhost:8080/"
        },
        "id": "Lensgv8vb5wf",
        "outputId": "801bf764-3ea0-4fab-ac35-1adc5d84fbcd"
      },
      "execution_count": 32,
      "outputs": [
        {
          "output_type": "execute_result",
          "data": {
            "text/plain": [
              "tensor([[[[0.5293, 0.3538],\n",
              "          [0.9567, 0.2878],\n",
              "          [0.3149, 0.3933]],\n",
              "\n",
              "         [[0.2444, 0.2584],\n",
              "          [0.5051, 0.1193],\n",
              "          [0.1825, 0.5238]],\n",
              "\n",
              "         [[0.7385, 0.7539],\n",
              "          [0.6607, 0.8980],\n",
              "          [0.6712, 0.7472]],\n",
              "\n",
              "         [[0.9488, 0.7438],\n",
              "          [0.7160, 0.1790],\n",
              "          [0.4124, 0.8522]]],\n",
              "\n",
              "\n",
              "        [[[0.3512, 0.8285],\n",
              "          [0.9151, 0.2061],\n",
              "          [0.2500, 0.6895]],\n",
              "\n",
              "         [[0.8649, 0.8956],\n",
              "          [0.8175, 0.4646],\n",
              "          [0.0641, 0.2681]],\n",
              "\n",
              "         [[0.9246, 0.6706],\n",
              "          [0.0497, 0.6296],\n",
              "          [0.9051, 0.2208]],\n",
              "\n",
              "         [[0.5967, 0.5434],\n",
              "          [0.7095, 0.5227],\n",
              "          [0.2466, 0.0209]]],\n",
              "\n",
              "\n",
              "        [[[0.9905, 0.7117],\n",
              "          [0.3546, 0.9253],\n",
              "          [0.9976, 0.7432]],\n",
              "\n",
              "         [[0.8616, 0.3677],\n",
              "          [0.2445, 0.2482],\n",
              "          [0.5330, 0.8509]],\n",
              "\n",
              "         [[0.2556, 0.5163],\n",
              "          [0.9109, 0.8488],\n",
              "          [0.5904, 0.2765]],\n",
              "\n",
              "         [[0.7494, 0.7331],\n",
              "          [0.7455, 0.0149],\n",
              "          [0.8102, 0.1555]]]])"
            ]
          },
          "metadata": {},
          "execution_count": 32
        }
      ]
    },
    {
      "cell_type": "code",
      "source": [
        "random_tensor_4.ndim"
      ],
      "metadata": {
        "colab": {
          "base_uri": "https://localhost:8080/"
        },
        "id": "KzYc_eC-cNOT",
        "outputId": "71f2f150-2a92-4017-a108-71e4e50f6e17"
      },
      "execution_count": 33,
      "outputs": [
        {
          "output_type": "execute_result",
          "data": {
            "text/plain": [
              "4"
            ]
          },
          "metadata": {},
          "execution_count": 33
        }
      ]
    },
    {
      "cell_type": "code",
      "source": [
        "# Creating a random tensor with similar shape to an image\n",
        "\n",
        "random_image_size_tensor = torch.rand(size=(224, 224, 3))\n",
        "random_image_size_tensor"
      ],
      "metadata": {
        "id": "vZ-UrOtRgLtd",
        "colab": {
          "base_uri": "https://localhost:8080/"
        },
        "outputId": "d1afffc9-f4c6-45a7-dc11-4a40721041c9"
      },
      "execution_count": 34,
      "outputs": [
        {
          "output_type": "execute_result",
          "data": {
            "text/plain": [
              "tensor([[[0.2599, 0.6147, 0.4599],\n",
              "         [0.2425, 0.9064, 0.0551],\n",
              "         [0.4576, 0.0926, 0.4778],\n",
              "         ...,\n",
              "         [0.4798, 0.3950, 0.9669],\n",
              "         [0.8613, 0.4883, 0.4018],\n",
              "         [0.6613, 0.8879, 0.2229]],\n",
              "\n",
              "        [[0.8086, 0.6377, 0.4630],\n",
              "         [0.3640, 0.5212, 0.2851],\n",
              "         [0.2090, 0.8691, 0.4651],\n",
              "         ...,\n",
              "         [0.3311, 0.6556, 0.1863],\n",
              "         [0.8787, 0.8753, 0.6126],\n",
              "         [0.0877, 0.5436, 0.1571]],\n",
              "\n",
              "        [[0.7675, 0.0703, 0.6501],\n",
              "         [0.4443, 0.4984, 0.9508],\n",
              "         [0.4074, 0.9574, 0.8086],\n",
              "         ...,\n",
              "         [0.8227, 0.0537, 0.9130],\n",
              "         [0.1568, 0.1877, 0.2079],\n",
              "         [0.3170, 0.1118, 0.9841]],\n",
              "\n",
              "        ...,\n",
              "\n",
              "        [[0.9323, 0.8403, 0.1424],\n",
              "         [0.6599, 0.1333, 0.8558],\n",
              "         [0.5409, 0.6994, 0.9230],\n",
              "         ...,\n",
              "         [0.1419, 0.2327, 0.5073],\n",
              "         [0.2494, 0.9332, 0.3868],\n",
              "         [0.3502, 0.7599, 0.0653]],\n",
              "\n",
              "        [[0.1002, 0.8129, 0.8314],\n",
              "         [0.1205, 0.3096, 0.6363],\n",
              "         [0.3251, 0.4425, 0.5902],\n",
              "         ...,\n",
              "         [0.0472, 0.6703, 0.7875],\n",
              "         [0.0980, 0.0137, 0.0687],\n",
              "         [0.7976, 0.2673, 0.3451]],\n",
              "\n",
              "        [[0.7026, 0.4514, 0.1207],\n",
              "         [0.5601, 0.5067, 0.0369],\n",
              "         [0.9699, 0.7914, 0.1101],\n",
              "         ...,\n",
              "         [0.6850, 0.7010, 0.7258],\n",
              "         [0.3214, 0.2870, 0.0573],\n",
              "         [0.1704, 0.7196, 0.9839]]])"
            ]
          },
          "metadata": {},
          "execution_count": 34
        }
      ]
    },
    {
      "cell_type": "code",
      "source": [
        "from skimage import io\n",
        "import numpy as np\n",
        "io.imshow(random_image_size_tensor.numpy()) # the io.imshow() function works with NumPy arrays"
      ],
      "metadata": {
        "colab": {
          "base_uri": "https://localhost:8080/",
          "height": 503
        },
        "id": "o-XlMn5wCF-G",
        "outputId": "773e2de0-7fef-4f1a-b5c5-9282f9259c12"
      },
      "execution_count": 35,
      "outputs": [
        {
          "output_type": "execute_result",
          "data": {
            "text/plain": [
              "<matplotlib.image.AxesImage at 0x7b0f9a7bfa90>"
            ]
          },
          "metadata": {},
          "execution_count": 35
        },
        {
          "output_type": "display_data",
          "data": {
            "text/plain": [
              "<Figure size 640x480 with 1 Axes>"
            ],
            "image/png": "[encoded data removed]"
          },
          "metadata": {}
        }
      ]
    },
    {
      "cell_type": "markdown",
      "source": [
        "## Zeros and ones"
      ],
      "metadata": {
        "id": "LITaQhGVDNTm"
      }
    },
    {
      "cell_type": "code",
      "source": [
        "# tensor of all zeros\n",
        "\n",
        "zeros = torch.zeros(size=(3,2))\n",
        "zeros"
      ],
      "metadata": {
        "colab": {
          "base_uri": "https://localhost:8080/"
        },
        "id": "o4FZmf5FEZc5",
        "outputId": "aaed6f2e-4931-47e9-d734-942c88b31889"
      },
      "execution_count": 36,
      "outputs": [
        {
          "output_type": "execute_result",
          "data": {
            "text/plain": [
              "tensor([[0., 0.],\n",
              "        [0., 0.],\n",
              "        [0., 0.]])"
            ]
          },
          "metadata": {},
          "execution_count": 36
        }
      ]
    },
    {
      "cell_type": "code",
      "source": [
        "zeros * random_tensor_2"
      ],
      "metadata": {
        "colab": {
          "base_uri": "https://localhost:8080/"
        },
        "id": "vGQ0UJ1OEhEO",
        "outputId": "2bca11a4-6f90-4093-ba5e-3d6712d90764"
      },
      "execution_count": 37,
      "outputs": [
        {
          "output_type": "execute_result",
          "data": {
            "text/plain": [
              "tensor([[0., 0.],\n",
              "        [0., 0.],\n",
              "        [0., 0.]])"
            ]
          },
          "metadata": {},
          "execution_count": 37
        }
      ]
    },
    {
      "cell_type": "code",
      "source": [
        "# tensor of all ones\n",
        "\n",
        "ones = torch.ones(size=(3,4))\n",
        "ones"
      ],
      "metadata": {
        "colab": {
          "base_uri": "https://localhost:8080/"
        },
        "id": "L2fj9WtHEoUh",
        "outputId": "3cf3d30e-23bb-49dd-c5f7-190f15ce5ab7"
      },
      "execution_count": 38,
      "outputs": [
        {
          "output_type": "execute_result",
          "data": {
            "text/plain": [
              "tensor([[1., 1., 1., 1.],\n",
              "        [1., 1., 1., 1.],\n",
              "        [1., 1., 1., 1.]])"
            ]
          },
          "metadata": {},
          "execution_count": 38
        }
      ]
    },
    {
      "cell_type": "markdown",
      "source": [
        "## Creating a range of tensors and tensors-like"
      ],
      "metadata": {
        "id": "vknTHPwRGHS-"
      }
    },
    {
      "cell_type": "markdown",
      "source": [
        "### range of tensors"
      ],
      "metadata": {
        "id": "PFucZmblIROE"
      }
    },
    {
      "cell_type": "code",
      "source": [
        "# Using toech.range()\n",
        "\n",
        "torch.range(0, 10) # UserWarning: torch.range is deprecated"
      ],
      "metadata": {
        "colab": {
          "base_uri": "https://localhost:8080/"
        },
        "id": "fSsg4QjlGuaZ",
        "outputId": "98344fe2-e514-431b-d20f-b6e928fb7b03"
      },
      "execution_count": 39,
      "outputs": [
        {
          "output_type": "stream",
          "name": "stderr",
          "text": [
            "<ipython-input-39-3ae5993a2970>:3: UserWarning: torch.range is deprecated and will be removed in a future release because its behavior is inconsistent with Python's range builtin. Instead, use torch.arange, which produces values in [start, end).\n",
            "  torch.range(0, 10) # UserWarning: torch.range is deprecated\n"
          ]
        },
        {
          "output_type": "execute_result",
          "data": {
            "text/plain": [
              "tensor([ 0.,  1.,  2.,  3.,  4.,  5.,  6.,  7.,  8.,  9., 10.])"
            ]
          },
          "metadata": {},
          "execution_count": 39
        }
      ]
    },
    {
      "cell_type": "code",
      "source": [
        "one_to_ten = torch.arange(1, 11)\n",
        "one_to_ten"
      ],
      "metadata": {
        "colab": {
          "base_uri": "https://localhost:8080/"
        },
        "id": "kfWVbCLzGzxn",
        "outputId": "eeda10b4-6e9c-4c4c-cbcb-55b09a67512d"
      },
      "execution_count": 40,
      "outputs": [
        {
          "output_type": "execute_result",
          "data": {
            "text/plain": [
              "tensor([ 1,  2,  3,  4,  5,  6,  7,  8,  9, 10])"
            ]
          },
          "metadata": {},
          "execution_count": 40
        }
      ]
    },
    {
      "cell_type": "code",
      "source": [
        "x = torch.arange(start=0, end=1000, step=77)\n",
        "x"
      ],
      "metadata": {
        "colab": {
          "base_uri": "https://localhost:8080/"
        },
        "id": "GpXf1EqcHBXt",
        "outputId": "546679ff-4fbf-47a4-97ba-ee8851dd56a2"
      },
      "execution_count": 41,
      "outputs": [
        {
          "output_type": "execute_result",
          "data": {
            "text/plain": [
              "tensor([  0,  77, 154, 231, 308, 385, 462, 539, 616, 693, 770, 847, 924])"
            ]
          },
          "metadata": {},
          "execution_count": 41
        }
      ]
    },
    {
      "cell_type": "code",
      "source": [
        "x = torch.arange(0, 1000, 77)\n",
        "x"
      ],
      "metadata": {
        "colab": {
          "base_uri": "https://localhost:8080/"
        },
        "id": "NVIofV7QHaMf",
        "outputId": "e304a8d2-0fbf-41ec-8a7d-a3243dd3e1d5"
      },
      "execution_count": 42,
      "outputs": [
        {
          "output_type": "execute_result",
          "data": {
            "text/plain": [
              "tensor([  0,  77, 154, 231, 308, 385, 462, 539, 616, 693, 770, 847, 924])"
            ]
          },
          "metadata": {},
          "execution_count": 42
        }
      ]
    },
    {
      "cell_type": "markdown",
      "source": [
        "### creating tensors like"
      ],
      "metadata": {
        "id": "uYR8Xrw9Hrp9"
      }
    },
    {
      "cell_type": "code",
      "source": [
        "ten_zeros = torch.zeros_like(input=one_to_ten)\n",
        "ten_zeros"
      ],
      "metadata": {
        "colab": {
          "base_uri": "https://localhost:8080/"
        },
        "id": "9B8548xUH69j",
        "outputId": "76516b22-2160-4b10-bf0e-5f179e0390a7"
      },
      "execution_count": 43,
      "outputs": [
        {
          "output_type": "execute_result",
          "data": {
            "text/plain": [
              "tensor([0, 0, 0, 0, 0, 0, 0, 0, 0, 0])"
            ]
          },
          "metadata": {},
          "execution_count": 43
        }
      ]
    },
    {
      "cell_type": "code",
      "source": [
        "ten_ones = torch.ones_like(input=one_to_ten)\n",
        "ten_ones"
      ],
      "metadata": {
        "colab": {
          "base_uri": "https://localhost:8080/"
        },
        "id": "9c6tTkUEIGfv",
        "outputId": "bde753e8-8b1e-47ca-aa4a-990f5399ffe0"
      },
      "execution_count": 44,
      "outputs": [
        {
          "output_type": "execute_result",
          "data": {
            "text/plain": [
              "tensor([1, 1, 1, 1, 1, 1, 1, 1, 1, 1])"
            ]
          },
          "metadata": {},
          "execution_count": 44
        }
      ]
    },
    {
      "cell_type": "markdown",
      "source": [
        "## Tensor DataTypes\n",
        "\n"
      ],
      "metadata": {
        "id": "tiH_XxA7I2lZ"
      }
    },
    {
      "cell_type": "code",
      "source": [
        "# float 69 tensor\n",
        "\n",
        "float_32_tensor = torch.tensor([3.0, 6.0, 9.0],\n",
        "                               dtype=None, # float32/float16\n",
        "                               device=None, # cpu/gpu -> what device is my tensor on\n",
        "                               requires_grad=False) # whether or not to track gradients with tis tensors operations\n",
        "float_32_tensor"
      ],
      "metadata": {
        "colab": {
          "base_uri": "https://localhost:8080/"
        },
        "id": "0NYtmxRRJBDX",
        "outputId": "c69dc9d6-b1cb-48ee-a0de-0afa3d2fe882"
      },
      "execution_count": 45,
      "outputs": [
        {
          "output_type": "execute_result",
          "data": {
            "text/plain": [
              "tensor([3., 6., 9.])"
            ]
          },
          "metadata": {},
          "execution_count": 45
        }
      ]
    },
    {
      "cell_type": "code",
      "source": [
        "float_32_tensor.dtype # it gives float32 even if we mentioned dtype=None, bcz it's default"
      ],
      "metadata": {
        "colab": {
          "base_uri": "https://localhost:8080/"
        },
        "id": "t-eDaWy3JTcx",
        "outputId": "660b82b9-8c47-4fa6-fdcf-84197914622a"
      },
      "execution_count": 46,
      "outputs": [
        {
          "output_type": "execute_result",
          "data": {
            "text/plain": [
              "torch.float32"
            ]
          },
          "metadata": {},
          "execution_count": 46
        }
      ]
    },
    {
      "cell_type": "code",
      "source": [
        "float_16_tensor = torch.tensor([3.0, 6.0, 9.0],\n",
        "                               dtype=torch.float16)\n",
        "float_16_tensor"
      ],
      "metadata": {
        "colab": {
          "base_uri": "https://localhost:8080/"
        },
        "id": "AIz9e2E4JcoR",
        "outputId": "ac385b2e-a1a0-4eaf-b5af-af32c384dc8e"
      },
      "execution_count": 47,
      "outputs": [
        {
          "output_type": "execute_result",
          "data": {
            "text/plain": [
              "tensor([3., 6., 9.], dtype=torch.float16)"
            ]
          },
          "metadata": {},
          "execution_count": 47
        }
      ]
    },
    {
      "cell_type": "code",
      "source": [
        "float_16_tensor.dtype"
      ],
      "metadata": {
        "colab": {
          "base_uri": "https://localhost:8080/"
        },
        "id": "pnloqwySJyAe",
        "outputId": "5ebe130b-fe99-407f-ae72-32ef42dadbfb"
      },
      "execution_count": 48,
      "outputs": [
        {
          "output_type": "execute_result",
          "data": {
            "text/plain": [
              "torch.float16"
            ]
          },
          "metadata": {},
          "execution_count": 48
        }
      ]
    },
    {
      "cell_type": "code",
      "source": [
        "float_32_tensor * float_16_tensor"
      ],
      "metadata": {
        "colab": {
          "base_uri": "https://localhost:8080/"
        },
        "id": "jcere43aJ2AX",
        "outputId": "47a57cc7-0234-47b0-f741-ed8c326c559f"
      },
      "execution_count": 49,
      "outputs": [
        {
          "output_type": "execute_result",
          "data": {
            "text/plain": [
              "tensor([ 9., 36., 81.])"
            ]
          },
          "metadata": {},
          "execution_count": 49
        }
      ]
    },
    {
      "cell_type": "markdown",
      "source": [
        "## Getting Information from tensors (using attributes)\n",
        "\n",
        "**Note:** There are 3 most common errors in Pytorch and Deep learning:\n",
        "1. Tensors ***not right datatype***: to get datatype from a tensor, can use `tensor.dtype`\n",
        "2. Tensors ***not right shape***: to het shape from a tensor, can use `tensor.shape` (attribute) / `tensor.size()` (function)\n",
        "3. Tensors ***not on the right device***: to get device from a tensor, can use `tensor.device`"
      ],
      "metadata": {
        "id": "N2eL-xe3dwBV"
      }
    },
    {
      "cell_type": "code",
      "source": [
        "some_tensor = torch.rand(3, 4)"
      ],
      "metadata": {
        "id": "EU1qliTcef4k"
      },
      "execution_count": 50,
      "outputs": []
    },
    {
      "cell_type": "code",
      "source": [
        "# Getting information\n",
        "\n",
        "print(some_tensor)\n",
        "print(f'Datatype of tensor--> {some_tensor.dtype}')\n",
        "print(f'Shape of tensor--> {some_tensor.shape}')\n",
        "print(f'The tendor in on (device)--> {some_tensor.device}')"
      ],
      "metadata": {
        "colab": {
          "base_uri": "https://localhost:8080/"
        },
        "id": "lJEJk3FHekjN",
        "outputId": "65961f04-45ec-4786-9d79-56ff9a06ead6"
      },
      "execution_count": 51,
      "outputs": [
        {
          "output_type": "stream",
          "name": "stdout",
          "text": [
            "tensor([[0.4127, 0.3520, 0.3765, 0.3278],\n",
            "        [0.9529, 0.1257, 0.4246, 0.8690],\n",
            "        [0.6615, 0.0064, 0.3096, 0.3771]])\n",
            "Datatype of tensor--> torch.float32\n",
            "Shape of tensor--> torch.Size([3, 4])\n",
            "The tendor in on (device)--> cpu\n"
          ]
        }
      ]
    },
    {
      "cell_type": "markdown",
      "source": [
        "## Manupulationg Tensors (tensor operations)\n",
        "\n",
        "Tenso operations include:\n",
        "* Addition\n",
        "* Subtraction\n",
        "* Multiplication\n",
        "* Division\n",
        "* Matrix Multiplication"
      ],
      "metadata": {
        "id": "4JH345bDf_uv"
      }
    },
    {
      "cell_type": "code",
      "source": [
        "# Addition\n",
        "\n",
        "tensor = torch.tensor([1, 2, 3])\n",
        "tensor + 10"
      ],
      "metadata": {
        "colab": {
          "base_uri": "https://localhost:8080/"
        },
        "id": "zOFPtruvgj9J",
        "outputId": "6cce562b-d725-4675-c2ba-441b15a7a9cc"
      },
      "execution_count": 52,
      "outputs": [
        {
          "output_type": "execute_result",
          "data": {
            "text/plain": [
              "tensor([11, 12, 13])"
            ]
          },
          "metadata": {},
          "execution_count": 52
        }
      ]
    },
    {
      "cell_type": "code",
      "source": [
        "# Addition with in-built function\n",
        "\n",
        "torch.add(tensor, 10)"
      ],
      "metadata": {
        "colab": {
          "base_uri": "https://localhost:8080/"
        },
        "id": "1g7mJZvSiDQj",
        "outputId": "7bee3c79-061c-4319-ffeb-e8812160f859"
      },
      "execution_count": 53,
      "outputs": [
        {
          "output_type": "execute_result",
          "data": {
            "text/plain": [
              "tensor([11, 12, 13])"
            ]
          },
          "metadata": {},
          "execution_count": 53
        }
      ]
    },
    {
      "cell_type": "code",
      "source": [
        "# Multiplication\n",
        "\n",
        "tensor * 10"
      ],
      "metadata": {
        "colab": {
          "base_uri": "https://localhost:8080/"
        },
        "id": "dPkz704FhM5G",
        "outputId": "3d5d35f1-12ff-43b1-bd07-c6cab04dc7fa"
      },
      "execution_count": 54,
      "outputs": [
        {
          "output_type": "execute_result",
          "data": {
            "text/plain": [
              "tensor([10, 20, 30])"
            ]
          },
          "metadata": {},
          "execution_count": 54
        }
      ]
    },
    {
      "cell_type": "code",
      "source": [
        "# Multiplication with in-built function\n",
        "\n",
        "torch.mul(tensor, 10)"
      ],
      "metadata": {
        "colab": {
          "base_uri": "https://localhost:8080/"
        },
        "id": "nbWbOIMvht__",
        "outputId": "46379d49-a087-4528-bf5c-0982e356c1f4"
      },
      "execution_count": 55,
      "outputs": [
        {
          "output_type": "execute_result",
          "data": {
            "text/plain": [
              "tensor([10, 20, 30])"
            ]
          },
          "metadata": {},
          "execution_count": 55
        }
      ]
    },
    {
      "cell_type": "code",
      "source": [
        "# Substraction\n",
        "\n",
        "tensor - 10"
      ],
      "metadata": {
        "colab": {
          "base_uri": "https://localhost:8080/"
        },
        "id": "hj0Oi85BhXpH",
        "outputId": "ec720344-a65c-43e2-9df3-4090a0dcb1ce"
      },
      "execution_count": 56,
      "outputs": [
        {
          "output_type": "execute_result",
          "data": {
            "text/plain": [
              "tensor([-9, -8, -7])"
            ]
          },
          "metadata": {},
          "execution_count": 56
        }
      ]
    },
    {
      "cell_type": "code",
      "source": [
        "# Substraction with in-built function\n",
        "\n",
        "torch.sub(tensor, 10)"
      ],
      "metadata": {
        "colab": {
          "base_uri": "https://localhost:8080/"
        },
        "id": "9Kpy4QrYide0",
        "outputId": "8256d4b7-9691-44dc-f3b0-725377ebf737"
      },
      "execution_count": 57,
      "outputs": [
        {
          "output_type": "execute_result",
          "data": {
            "text/plain": [
              "tensor([-9, -8, -7])"
            ]
          },
          "metadata": {},
          "execution_count": 57
        }
      ]
    },
    {
      "cell_type": "code",
      "source": [
        "# Division\n",
        "\n",
        "tensor/10"
      ],
      "metadata": {
        "colab": {
          "base_uri": "https://localhost:8080/"
        },
        "id": "o-8Snq0Chlwc",
        "outputId": "8f0cb47c-8ec9-4138-805e-e6de4d786dfe"
      },
      "execution_count": 58,
      "outputs": [
        {
          "output_type": "execute_result",
          "data": {
            "text/plain": [
              "tensor([0.1000, 0.2000, 0.3000])"
            ]
          },
          "metadata": {},
          "execution_count": 58
        }
      ]
    },
    {
      "cell_type": "code",
      "source": [
        "# Division with in-built function\n",
        "\n",
        "torch.div(tensor, 10)"
      ],
      "metadata": {
        "colab": {
          "base_uri": "https://localhost:8080/"
        },
        "id": "jLicCVfviNcz",
        "outputId": "383cbc68-3ce8-44db-c3e3-1d2ab1b9dce5"
      },
      "execution_count": 59,
      "outputs": [
        {
          "output_type": "execute_result",
          "data": {
            "text/plain": [
              "tensor([0.1000, 0.2000, 0.3000])"
            ]
          },
          "metadata": {},
          "execution_count": 59
        }
      ]
    },
    {
      "cell_type": "markdown",
      "source": [
        "## Matrix Multiplication (Dot product)\n",
        "\n",
        "Two main ways of performing multiplication in neural networks and deep learning:\n",
        "1. Element-wise multiplication\n",
        "2. Matrix multiplication (dot product)"
      ],
      "metadata": {
        "id": "p43J8U9ziTvw"
      }
    },
    {
      "cell_type": "code",
      "source": [
        "# Element-wise multiplication\n",
        "\n",
        "print(tensor, \"*\", tensor)\n",
        "print(f\"Equals: {tensor * tensor}\")"
      ],
      "metadata": {
        "colab": {
          "base_uri": "https://localhost:8080/"
        },
        "id": "F5qvqDzrj5hR",
        "outputId": "1ddda630-b612-4efa-fe51-cff53a694e14"
      },
      "execution_count": 60,
      "outputs": [
        {
          "output_type": "stream",
          "name": "stdout",
          "text": [
            "tensor([1, 2, 3]) * tensor([1, 2, 3])\n",
            "Equals: tensor([1, 4, 9])\n"
          ]
        }
      ]
    },
    {
      "cell_type": "code",
      "source": [
        "# Matrix Multiplication\n",
        "\n",
        "torch.matmul(tensor, tensor)"
      ],
      "metadata": {
        "colab": {
          "base_uri": "https://localhost:8080/"
        },
        "id": "u9RGCQGQkSKG",
        "outputId": "cbeed66d-11e0-4f44-b53e-40d0f674463c"
      },
      "execution_count": 61,
      "outputs": [
        {
          "output_type": "execute_result",
          "data": {
            "text/plain": [
              "tensor(14)"
            ]
          },
          "metadata": {},
          "execution_count": 61
        }
      ]
    },
    {
      "cell_type": "code",
      "source": [
        "tensor @ tensor"
      ],
      "metadata": {
        "colab": {
          "base_uri": "https://localhost:8080/"
        },
        "id": "pyzuE-tJrDYl",
        "outputId": "358600c8-894d-46d5-a55d-04d5dc1ed118"
      },
      "execution_count": 62,
      "outputs": [
        {
          "output_type": "execute_result",
          "data": {
            "text/plain": [
              "tensor(14)"
            ]
          },
          "metadata": {},
          "execution_count": 62
        }
      ]
    },
    {
      "cell_type": "code",
      "source": [
        "torch.mm(tensor, tensor)"
      ],
      "metadata": {
        "colab": {
          "base_uri": "https://localhost:8080/",
          "height": 175
        },
        "id": "z-uvJVrYucby",
        "outputId": "e696a5bc-3813-4055-8b9b-c34440aa50be"
      },
      "execution_count": 63,
      "outputs": [
        {
          "output_type": "error",
          "ename": "RuntimeError",
          "evalue": "ignored",
          "traceback": [
            "\u001b[0;31m---------------------------------------------------------------------------\u001b[0m",
            "\u001b[0;31mRuntimeError\u001b[0m                              Traceback (most recent call last)",
            "\u001b[0;32m<ipython-input-63-9ec8e4aa50d8>\u001b[0m in \u001b[0;36m<cell line: 1>\u001b[0;34m()\u001b[0m\n\u001b[0;32m----> 1\u001b[0;31m \u001b[0mtorch\u001b[0m\u001b[0;34m.\u001b[0m\u001b[0mmm\u001b[0m\u001b[0;34m(\u001b[0m\u001b[0mtensor\u001b[0m\u001b[0;34m,\u001b[0m \u001b[0mtensor\u001b[0m\u001b[0;34m)\u001b[0m\u001b[0;34m\u001b[0m\u001b[0;34m\u001b[0m\u001b[0m\n\u001b[0m",
            "\u001b[0;31mRuntimeError\u001b[0m: self must be a matrix"
          ]
        }
      ]
    },
    {
      "cell_type": "code",
      "source": [
        "%%time\n",
        "value = 0\n",
        "for i in range(len(tensor)):\n",
        "    value += tensor[i] * tensor[i]\n",
        "print(value)"
      ],
      "metadata": {
        "colab": {
          "base_uri": "https://localhost:8080/"
        },
        "id": "9_uvD7CCkfjb",
        "outputId": "6b5f85c7-f0eb-452e-da29-bef0cbe314ca"
      },
      "execution_count": 64,
      "outputs": [
        {
          "output_type": "stream",
          "name": "stdout",
          "text": [
            "tensor(14)\n",
            "CPU times: user 1.73 ms, sys: 681 µs, total: 2.41 ms\n",
            "Wall time: 2.52 ms\n"
          ]
        }
      ]
    },
    {
      "cell_type": "code",
      "source": [
        "%%time\n",
        "torch.matmul(tensor, tensor)"
      ],
      "metadata": {
        "colab": {
          "base_uri": "https://localhost:8080/"
        },
        "id": "fN8gI52FlMo8",
        "outputId": "55701f46-8523-421a-e6c9-3c6890e096c1"
      },
      "execution_count": 65,
      "outputs": [
        {
          "output_type": "stream",
          "name": "stdout",
          "text": [
            "CPU times: user 69 µs, sys: 16 µs, total: 85 µs\n",
            "Wall time: 90.1 µs\n"
          ]
        },
        {
          "output_type": "execute_result",
          "data": {
            "text/plain": [
              "tensor(14)"
            ]
          },
          "metadata": {},
          "execution_count": 65
        }
      ]
    },
    {
      "cell_type": "markdown",
      "source": [
        "`Dimentions must match in order to perfrom matrix multiplication`"
      ],
      "metadata": {
        "id": "3D7fsJkElQnO"
      }
    },
    {
      "cell_type": "code",
      "source": [
        "tensor1 = torch.rand(3,2)\n",
        "tensor2 = torch.rand(3,2)"
      ],
      "metadata": {
        "id": "TIGNFyN3tyaR"
      },
      "execution_count": 66,
      "outputs": []
    },
    {
      "cell_type": "code",
      "source": [
        "# Won't work\n",
        "\n",
        "torch.matmul(tensor1, tensor2)"
      ],
      "metadata": {
        "colab": {
          "base_uri": "https://localhost:8080/",
          "height": 210
        },
        "id": "frwhngHLuCCO",
        "outputId": "76628208-d6d8-44f1-cfd7-edd6681bc8cc"
      },
      "execution_count": 68,
      "outputs": [
        {
          "output_type": "error",
          "ename": "RuntimeError",
          "evalue": "ignored",
          "traceback": [
            "\u001b[0;31m---------------------------------------------------------------------------\u001b[0m",
            "\u001b[0;31mRuntimeError\u001b[0m                              Traceback (most recent call last)",
            "\u001b[0;32m<ipython-input-68-3075675c4805>\u001b[0m in \u001b[0;36m<cell line: 3>\u001b[0;34m()\u001b[0m\n\u001b[1;32m      1\u001b[0m \u001b[0;31m# Won't work\u001b[0m\u001b[0;34m\u001b[0m\u001b[0;34m\u001b[0m\u001b[0m\n\u001b[1;32m      2\u001b[0m \u001b[0;34m\u001b[0m\u001b[0m\n\u001b[0;32m----> 3\u001b[0;31m \u001b[0mtorch\u001b[0m\u001b[0;34m.\u001b[0m\u001b[0mmatmul\u001b[0m\u001b[0;34m(\u001b[0m\u001b[0mtensor1\u001b[0m\u001b[0;34m,\u001b[0m \u001b[0mtensor2\u001b[0m\u001b[0;34m)\u001b[0m\u001b[0;34m\u001b[0m\u001b[0;34m\u001b[0m\u001b[0m\n\u001b[0m",
            "\u001b[0;31mRuntimeError\u001b[0m: mat1 and mat2 shapes cannot be multiplied (3x2 and 3x2)"
          ]
        }
      ]
    },
    {
      "cell_type": "code",
      "source": [
        "# Will work (after matching dimention)\n",
        "\n",
        "torch.mm(tensor1.T, tensor2)"
      ],
      "metadata": {
        "colab": {
          "base_uri": "https://localhost:8080/"
        },
        "id": "GJffvb2EuKgb",
        "outputId": "599200a5-f1ae-4904-f5e6-f8ff6c56105a"
      },
      "execution_count": 69,
      "outputs": [
        {
          "output_type": "execute_result",
          "data": {
            "text/plain": [
              "tensor([[0.5024, 1.0162],\n",
              "        [0.3757, 1.0637]])"
            ]
          },
          "metadata": {},
          "execution_count": 69
        }
      ]
    },
    {
      "cell_type": "markdown",
      "source": [
        "## Finding min, max, mean, sum (tensor aggrigation)"
      ],
      "metadata": {
        "id": "RlYys2_5uZsf"
      }
    },
    {
      "cell_type": "code",
      "source": [
        "# Creating a tensor\n",
        "\n",
        "x =  torch.arange(0, 100, 10)\n",
        "x"
      ],
      "metadata": {
        "colab": {
          "base_uri": "https://localhost:8080/"
        },
        "id": "tvM5AewovD2f",
        "outputId": "aea447f2-54d0-4e18-f04c-7a5f9d0b2c7c"
      },
      "execution_count": 70,
      "outputs": [
        {
          "output_type": "execute_result",
          "data": {
            "text/plain": [
              "tensor([ 0, 10, 20, 30, 40, 50, 60, 70, 80, 90])"
            ]
          },
          "metadata": {},
          "execution_count": 70
        }
      ]
    },
    {
      "cell_type": "code",
      "source": [
        "# min\n",
        "\n",
        "torch.min(x)"
      ],
      "metadata": {
        "colab": {
          "base_uri": "https://localhost:8080/"
        },
        "id": "yr8LXndsvHQE",
        "outputId": "38af9056-d030-4920-cfa3-89a113fca96e"
      },
      "execution_count": 71,
      "outputs": [
        {
          "output_type": "execute_result",
          "data": {
            "text/plain": [
              "tensor(0)"
            ]
          },
          "metadata": {},
          "execution_count": 71
        }
      ]
    },
    {
      "cell_type": "code",
      "source": [
        "x.min()"
      ],
      "metadata": {
        "colab": {
          "base_uri": "https://localhost:8080/"
        },
        "id": "P2yCOAvbvVE2",
        "outputId": "544be928-ce65-4444-a636-478d167145ce"
      },
      "execution_count": 72,
      "outputs": [
        {
          "output_type": "execute_result",
          "data": {
            "text/plain": [
              "tensor(0)"
            ]
          },
          "metadata": {},
          "execution_count": 72
        }
      ]
    },
    {
      "cell_type": "code",
      "source": [
        "# max\n",
        "\n",
        "torch.max(x)"
      ],
      "metadata": {
        "colab": {
          "base_uri": "https://localhost:8080/"
        },
        "id": "jnNKYlLCvXdn",
        "outputId": "819fda01-8f66-41e4-ab33-65086e03b99f"
      },
      "execution_count": 73,
      "outputs": [
        {
          "output_type": "execute_result",
          "data": {
            "text/plain": [
              "tensor(90)"
            ]
          },
          "metadata": {},
          "execution_count": 73
        }
      ]
    },
    {
      "cell_type": "code",
      "source": [
        "x.max()"
      ],
      "metadata": {
        "colab": {
          "base_uri": "https://localhost:8080/"
        },
        "id": "JkeAIhsQvcIo",
        "outputId": "228ff6be-4fa8-475b-e01a-d2b01cfcc194"
      },
      "execution_count": 74,
      "outputs": [
        {
          "output_type": "execute_result",
          "data": {
            "text/plain": [
              "tensor(90)"
            ]
          },
          "metadata": {},
          "execution_count": 74
        }
      ]
    },
    {
      "cell_type": "code",
      "source": [
        "# mean\n",
        "\n",
        "torch.mean(x) # will give error because torch.mean() cant work on 'int64' or 'Long'\n",
        "              # Input dtype must be either a 'floating point' or 'complex' dtype"
      ],
      "metadata": {
        "colab": {
          "base_uri": "https://localhost:8080/",
          "height": 245
        },
        "id": "tOpHKxouvemq",
        "outputId": "9e13ca51-03aa-48c3-f971-648682101139"
      },
      "execution_count": 75,
      "outputs": [
        {
          "output_type": "error",
          "ename": "RuntimeError",
          "evalue": "ignored",
          "traceback": [
            "\u001b[0;31m---------------------------------------------------------------------------\u001b[0m",
            "\u001b[0;31mRuntimeError\u001b[0m                              Traceback (most recent call last)",
            "\u001b[0;32m<ipython-input-75-d9057c56329f>\u001b[0m in \u001b[0;36m<cell line: 3>\u001b[0;34m()\u001b[0m\n\u001b[1;32m      1\u001b[0m \u001b[0;31m# mean\u001b[0m\u001b[0;34m\u001b[0m\u001b[0;34m\u001b[0m\u001b[0m\n\u001b[1;32m      2\u001b[0m \u001b[0;34m\u001b[0m\u001b[0m\n\u001b[0;32m----> 3\u001b[0;31m \u001b[0mtorch\u001b[0m\u001b[0;34m.\u001b[0m\u001b[0mmean\u001b[0m\u001b[0;34m(\u001b[0m\u001b[0mx\u001b[0m\u001b[0;34m)\u001b[0m \u001b[0;31m# will give error because torch.mean() cant work on 'int64' or 'Long'\u001b[0m\u001b[0;34m\u001b[0m\u001b[0;34m\u001b[0m\u001b[0m\n\u001b[0m\u001b[1;32m      4\u001b[0m               \u001b[0;31m# Input dtype must be either a 'floating point' or 'complex' dtype\u001b[0m\u001b[0;34m\u001b[0m\u001b[0;34m\u001b[0m\u001b[0m\n",
            "\u001b[0;31mRuntimeError\u001b[0m: mean(): could not infer output dtype. Input dtype must be either a floating point or complex dtype. Got: Long"
          ]
        }
      ]
    },
    {
      "cell_type": "code",
      "source": [
        "x.dtype"
      ],
      "metadata": {
        "colab": {
          "base_uri": "https://localhost:8080/"
        },
        "id": "zmi0BDYNvv13",
        "outputId": "436a94c5-d64f-4689-830c-7d586b30f022"
      },
      "execution_count": 76,
      "outputs": [
        {
          "output_type": "execute_result",
          "data": {
            "text/plain": [
              "torch.int64"
            ]
          },
          "metadata": {},
          "execution_count": 76
        }
      ]
    },
    {
      "cell_type": "code",
      "source": [
        "torch.mean(x.type(torch.float32))"
      ],
      "metadata": {
        "colab": {
          "base_uri": "https://localhost:8080/"
        },
        "id": "5DkLy632v62-",
        "outputId": "6524a989-b957-42bd-9790-bad09206a247"
      },
      "execution_count": 77,
      "outputs": [
        {
          "output_type": "execute_result",
          "data": {
            "text/plain": [
              "tensor(45.)"
            ]
          },
          "metadata": {},
          "execution_count": 77
        }
      ]
    },
    {
      "cell_type": "code",
      "source": [
        "x.type(torch.float32).mean()"
      ],
      "metadata": {
        "colab": {
          "base_uri": "https://localhost:8080/"
        },
        "id": "qbQ4dO2gwUM9",
        "outputId": "5475dcb1-6b43-408f-c615-8661a2998792"
      },
      "execution_count": 78,
      "outputs": [
        {
          "output_type": "execute_result",
          "data": {
            "text/plain": [
              "tensor(45.)"
            ]
          },
          "metadata": {},
          "execution_count": 78
        }
      ]
    },
    {
      "cell_type": "code",
      "source": [
        "x.dtype"
      ],
      "metadata": {
        "colab": {
          "base_uri": "https://localhost:8080/"
        },
        "id": "_00Me2JJwuY1",
        "outputId": "5e97be7c-6598-4992-ef9f-f90d29e48239"
      },
      "execution_count": 79,
      "outputs": [
        {
          "output_type": "execute_result",
          "data": {
            "text/plain": [
              "torch.int64"
            ]
          },
          "metadata": {},
          "execution_count": 79
        }
      ]
    },
    {
      "cell_type": "code",
      "source": [
        "x.type(torch.float32).dtype"
      ],
      "metadata": {
        "colab": {
          "base_uri": "https://localhost:8080/"
        },
        "id": "ANxn3-BJwxbu",
        "outputId": "df2b37b5-0241-48bf-a68a-a3b7e24ed1ba"
      },
      "execution_count": 80,
      "outputs": [
        {
          "output_type": "execute_result",
          "data": {
            "text/plain": [
              "torch.float32"
            ]
          },
          "metadata": {},
          "execution_count": 80
        }
      ]
    },
    {
      "cell_type": "markdown",
      "source": [
        "### Finding positional min and max"
      ],
      "metadata": {
        "id": "Bw-yP2KpvGDT"
      }
    },
    {
      "cell_type": "code",
      "source": [
        "x"
      ],
      "metadata": {
        "id": "Sj4lLcqyw0fE",
        "colab": {
          "base_uri": "https://localhost:8080/"
        },
        "outputId": "4396d28c-8974-4a44-d5bf-4cb4ebfbd1dd"
      },
      "execution_count": 81,
      "outputs": [
        {
          "output_type": "execute_result",
          "data": {
            "text/plain": [
              "tensor([ 0, 10, 20, 30, 40, 50, 60, 70, 80, 90])"
            ]
          },
          "metadata": {},
          "execution_count": 81
        }
      ]
    },
    {
      "cell_type": "code",
      "source": [
        "# Finding the index with smallest value\n",
        "\n",
        "x.argmin()"
      ],
      "metadata": {
        "colab": {
          "base_uri": "https://localhost:8080/"
        },
        "id": "M_MbkxMdvLTL",
        "outputId": "f2292df6-0d27-4310-b3af-8318130e2540"
      },
      "execution_count": 82,
      "outputs": [
        {
          "output_type": "execute_result",
          "data": {
            "text/plain": [
              "tensor(0)"
            ]
          },
          "metadata": {},
          "execution_count": 82
        }
      ]
    },
    {
      "cell_type": "code",
      "source": [
        "# Finding the index with largest value\n",
        "\n",
        "x.argmax()"
      ],
      "metadata": {
        "colab": {
          "base_uri": "https://localhost:8080/"
        },
        "id": "dFy8ZiVyvhxt",
        "outputId": "970419e2-f2aa-41a6-c05b-9ef92fd93030"
      },
      "execution_count": 83,
      "outputs": [
        {
          "output_type": "execute_result",
          "data": {
            "text/plain": [
              "tensor(9)"
            ]
          },
          "metadata": {},
          "execution_count": 83
        }
      ]
    },
    {
      "cell_type": "markdown",
      "source": [
        "## **Reshaping, stacking, squeezing and unsqueezing tensors**\n",
        "\n",
        "* `Reshaping` - reshapes an input tensor to a defined shape\n",
        "* `View` - return a view of an input tensor of certaing shape but keeping the same memory as the original tensor\n",
        "* `Stacking` - combain multiple tensors on top of each other (vstack) of side by side (hstack)\n",
        "* `Squeeze` - remove all 1 dimentions form a tensor\n",
        "* `Permute` - return a view of the input with dimentions permutes (swapped) in a certain way"
      ],
      "metadata": {
        "id": "pX7iAMQNvuT5"
      }
    },
    {
      "cell_type": "code",
      "source": [
        "x = torch.arange(1., 13.)\n",
        "x"
      ],
      "metadata": {
        "colab": {
          "base_uri": "https://localhost:8080/"
        },
        "id": "xgavD4y60umA",
        "outputId": "6129238e-b59f-4dfa-f2bf-41bb894305ce"
      },
      "execution_count": 84,
      "outputs": [
        {
          "output_type": "execute_result",
          "data": {
            "text/plain": [
              "tensor([ 1.,  2.,  3.,  4.,  5.,  6.,  7.,  8.,  9., 10., 11., 12.])"
            ]
          },
          "metadata": {},
          "execution_count": 84
        }
      ]
    },
    {
      "cell_type": "code",
      "source": [
        "x.shape"
      ],
      "metadata": {
        "colab": {
          "base_uri": "https://localhost:8080/"
        },
        "id": "moII3gbB07qB",
        "outputId": "a9c663be-d6b2-46f8-eb9c-a0a60844f4ca"
      },
      "execution_count": 85,
      "outputs": [
        {
          "output_type": "execute_result",
          "data": {
            "text/plain": [
              "torch.Size([12])"
            ]
          },
          "metadata": {},
          "execution_count": 85
        }
      ]
    },
    {
      "cell_type": "markdown",
      "source": [
        "### **Reshaping**"
      ],
      "metadata": {
        "id": "_Y0IksMQ0_RQ"
      }
    },
    {
      "cell_type": "code",
      "source": [
        "x_reshaped = x.reshape(1, 12)\n",
        "x_reshaped"
      ],
      "metadata": {
        "colab": {
          "base_uri": "https://localhost:8080/"
        },
        "id": "tdo2IqY-cAVF",
        "outputId": "2abaf558-d9f2-4213-d9c7-81c82a7c844a"
      },
      "execution_count": 108,
      "outputs": [
        {
          "output_type": "execute_result",
          "data": {
            "text/plain": [
              "tensor([[ 1.,  2.,  3.,  4.,  5.,  6.,  7.,  8.,  9., 10., 11., 12.]])"
            ]
          },
          "metadata": {},
          "execution_count": 108
        }
      ]
    },
    {
      "cell_type": "code",
      "source": [
        "x.reshape(6, 2)"
      ],
      "metadata": {
        "colab": {
          "base_uri": "https://localhost:8080/"
        },
        "id": "_BOaHk551ly2",
        "outputId": "7fc8b8f0-a802-4e93-eac6-60a24284525f"
      },
      "execution_count": 86,
      "outputs": [
        {
          "output_type": "execute_result",
          "data": {
            "text/plain": [
              "tensor([[ 1.,  2.],\n",
              "        [ 3.,  4.],\n",
              "        [ 5.,  6.],\n",
              "        [ 7.,  8.],\n",
              "        [ 9., 10.],\n",
              "        [11., 12.]])"
            ]
          },
          "metadata": {},
          "execution_count": 86
        }
      ]
    },
    {
      "cell_type": "code",
      "source": [
        "x.reshape(2, 6)"
      ],
      "metadata": {
        "colab": {
          "base_uri": "https://localhost:8080/"
        },
        "id": "XfoXKwt_11GY",
        "outputId": "c93561ab-9ff4-4107-89bf-87b7d627c764"
      },
      "execution_count": 87,
      "outputs": [
        {
          "output_type": "execute_result",
          "data": {
            "text/plain": [
              "tensor([[ 1.,  2.,  3.,  4.,  5.,  6.],\n",
              "        [ 7.,  8.,  9., 10., 11., 12.]])"
            ]
          },
          "metadata": {},
          "execution_count": 87
        }
      ]
    },
    {
      "cell_type": "code",
      "source": [
        "x.reshape(3, 4)"
      ],
      "metadata": {
        "colab": {
          "base_uri": "https://localhost:8080/"
        },
        "id": "gK39KVLb16I2",
        "outputId": "2626e5ce-852b-4fb2-a518-90e3579ce9d6"
      },
      "execution_count": 88,
      "outputs": [
        {
          "output_type": "execute_result",
          "data": {
            "text/plain": [
              "tensor([[ 1.,  2.,  3.,  4.],\n",
              "        [ 5.,  6.,  7.,  8.],\n",
              "        [ 9., 10., 11., 12.]])"
            ]
          },
          "metadata": {},
          "execution_count": 88
        }
      ]
    },
    {
      "cell_type": "code",
      "source": [
        "x.reshape(3, 5) # won't work, mismatch of elements"
      ],
      "metadata": {
        "colab": {
          "base_uri": "https://localhost:8080/",
          "height": 175
        },
        "id": "Y0JJ31NZ1-zf",
        "outputId": "4acad364-8717-4ba9-9330-216f7e524733"
      },
      "execution_count": 89,
      "outputs": [
        {
          "output_type": "error",
          "ename": "RuntimeError",
          "evalue": "ignored",
          "traceback": [
            "\u001b[0;31m---------------------------------------------------------------------------\u001b[0m",
            "\u001b[0;31mRuntimeError\u001b[0m                              Traceback (most recent call last)",
            "\u001b[0;32m<ipython-input-89-62ebfd4d7d2c>\u001b[0m in \u001b[0;36m<cell line: 1>\u001b[0;34m()\u001b[0m\n\u001b[0;32m----> 1\u001b[0;31m \u001b[0mx\u001b[0m\u001b[0;34m.\u001b[0m\u001b[0mreshape\u001b[0m\u001b[0;34m(\u001b[0m\u001b[0;36m3\u001b[0m\u001b[0;34m,\u001b[0m \u001b[0;36m5\u001b[0m\u001b[0;34m)\u001b[0m \u001b[0;31m# won't work, mismatch of elements\u001b[0m\u001b[0;34m\u001b[0m\u001b[0;34m\u001b[0m\u001b[0m\n\u001b[0m",
            "\u001b[0;31mRuntimeError\u001b[0m: shape '[3, 5]' is invalid for input of size 12"
          ]
        }
      ]
    },
    {
      "cell_type": "markdown",
      "source": [
        "### **Change the View**"
      ],
      "metadata": {
        "id": "yIGT7eXI2KJW"
      }
    },
    {
      "cell_type": "code",
      "source": [
        "z = x.view(4, 3)\n",
        "z"
      ],
      "metadata": {
        "colab": {
          "base_uri": "https://localhost:8080/"
        },
        "id": "ofXulzZ12ShG",
        "outputId": "b4a2c980-30e9-461f-9f00-b88bd0417a54"
      },
      "execution_count": 90,
      "outputs": [
        {
          "output_type": "execute_result",
          "data": {
            "text/plain": [
              "tensor([[ 1.,  2.,  3.],\n",
              "        [ 4.,  5.,  6.],\n",
              "        [ 7.,  8.,  9.],\n",
              "        [10., 11., 12.]])"
            ]
          },
          "metadata": {},
          "execution_count": 90
        }
      ]
    },
    {
      "cell_type": "code",
      "source": [
        "z[:, 0] = torch.tensor([5, 6, 7, 9])\n",
        "z"
      ],
      "metadata": {
        "colab": {
          "base_uri": "https://localhost:8080/"
        },
        "id": "PWhD8RBo_BiM",
        "outputId": "979e1948-f40f-4ea8-b036-23ec69bcbbaf"
      },
      "execution_count": 91,
      "outputs": [
        {
          "output_type": "execute_result",
          "data": {
            "text/plain": [
              "tensor([[ 5.,  2.,  3.],\n",
              "        [ 6.,  5.,  6.],\n",
              "        [ 7.,  8.,  9.],\n",
              "        [ 9., 11., 12.]])"
            ]
          },
          "metadata": {},
          "execution_count": 91
        }
      ]
    },
    {
      "cell_type": "code",
      "source": [
        "x"
      ],
      "metadata": {
        "colab": {
          "base_uri": "https://localhost:8080/"
        },
        "id": "_h-yf6uLAXo0",
        "outputId": "0adfeeaf-2a68-4aca-f9f1-c7ccd3c3ec1d"
      },
      "execution_count": 92,
      "outputs": [
        {
          "output_type": "execute_result",
          "data": {
            "text/plain": [
              "tensor([ 5.,  2.,  3.,  6.,  5.,  6.,  7.,  8.,  9.,  9., 11., 12.])"
            ]
          },
          "metadata": {},
          "execution_count": 92
        }
      ]
    },
    {
      "cell_type": "code",
      "source": [
        "y = x.view(3, 4)\n",
        "y"
      ],
      "metadata": {
        "colab": {
          "base_uri": "https://localhost:8080/"
        },
        "id": "fDZBxGBIAn7d",
        "outputId": "7e2cdcc8-faf8-41af-d63f-fd3fc227c7dd"
      },
      "execution_count": 93,
      "outputs": [
        {
          "output_type": "execute_result",
          "data": {
            "text/plain": [
              "tensor([[ 5.,  2.,  3.,  6.],\n",
              "        [ 5.,  6.,  7.,  8.],\n",
              "        [ 9.,  9., 11., 12.]])"
            ]
          },
          "metadata": {},
          "execution_count": 93
        }
      ]
    },
    {
      "cell_type": "code",
      "source": [
        "y[0, :] = torch.tensor([0, 0, 0, 0])\n",
        "y"
      ],
      "metadata": {
        "colab": {
          "base_uri": "https://localhost:8080/"
        },
        "id": "vLiReD-tA1a_",
        "outputId": "8b3a57d0-3f1b-458a-cd07-17f20b5dc3cb"
      },
      "execution_count": 94,
      "outputs": [
        {
          "output_type": "execute_result",
          "data": {
            "text/plain": [
              "tensor([[ 0.,  0.,  0.,  0.],\n",
              "        [ 5.,  6.,  7.,  8.],\n",
              "        [ 9.,  9., 11., 12.]])"
            ]
          },
          "metadata": {},
          "execution_count": 94
        }
      ]
    },
    {
      "cell_type": "code",
      "source": [
        "x"
      ],
      "metadata": {
        "colab": {
          "base_uri": "https://localhost:8080/"
        },
        "id": "3Yx5oz6cBBy0",
        "outputId": "585b0250-a625-4018-f9fd-e1a29f9740db"
      },
      "execution_count": 95,
      "outputs": [
        {
          "output_type": "execute_result",
          "data": {
            "text/plain": [
              "tensor([ 0.,  0.,  0.,  0.,  5.,  6.,  7.,  8.,  9.,  9., 11., 12.])"
            ]
          },
          "metadata": {},
          "execution_count": 95
        }
      ]
    },
    {
      "cell_type": "markdown",
      "source": [
        "### **Stack tensor onthe top of each other**"
      ],
      "metadata": {
        "id": "8h4fANR_BD5l"
      }
    },
    {
      "cell_type": "code",
      "source": [
        "x_stacked = torch.stack([x, x, x, x], dim=0)\n",
        "x_stacked"
      ],
      "metadata": {
        "colab": {
          "base_uri": "https://localhost:8080/"
        },
        "id": "AriJJ9OMBUYv",
        "outputId": "9a89a67d-c2b1-42c6-82cf-c65951075d69"
      },
      "execution_count": 96,
      "outputs": [
        {
          "output_type": "execute_result",
          "data": {
            "text/plain": [
              "tensor([[ 0.,  0.,  0.,  0.,  5.,  6.,  7.,  8.,  9.,  9., 11., 12.],\n",
              "        [ 0.,  0.,  0.,  0.,  5.,  6.,  7.,  8.,  9.,  9., 11., 12.],\n",
              "        [ 0.,  0.,  0.,  0.,  5.,  6.,  7.,  8.,  9.,  9., 11., 12.],\n",
              "        [ 0.,  0.,  0.,  0.,  5.,  6.,  7.,  8.,  9.,  9., 11., 12.]])"
            ]
          },
          "metadata": {},
          "execution_count": 96
        }
      ]
    },
    {
      "cell_type": "code",
      "source": [
        "x_stacked = torch.stack([x, x, x, x], dim=1)\n",
        "x_stacked"
      ],
      "metadata": {
        "colab": {
          "base_uri": "https://localhost:8080/"
        },
        "id": "UlzNt-7OBh1e",
        "outputId": "fc78a8df-68a1-4cf4-86ad-7f537d6ba623"
      },
      "execution_count": 97,
      "outputs": [
        {
          "output_type": "execute_result",
          "data": {
            "text/plain": [
              "tensor([[ 0.,  0.,  0.,  0.],\n",
              "        [ 0.,  0.,  0.,  0.],\n",
              "        [ 0.,  0.,  0.,  0.],\n",
              "        [ 0.,  0.,  0.,  0.],\n",
              "        [ 5.,  5.,  5.,  5.],\n",
              "        [ 6.,  6.,  6.,  6.],\n",
              "        [ 7.,  7.,  7.,  7.],\n",
              "        [ 8.,  8.,  8.,  8.],\n",
              "        [ 9.,  9.,  9.,  9.],\n",
              "        [ 9.,  9.,  9.,  9.],\n",
              "        [11., 11., 11., 11.],\n",
              "        [12., 12., 12., 12.]])"
            ]
          },
          "metadata": {},
          "execution_count": 97
        }
      ]
    },
    {
      "cell_type": "markdown",
      "source": [
        "### Squeezing"
      ],
      "metadata": {
        "id": "tvPNovrJBj6r"
      }
    },
    {
      "cell_type": "code",
      "source": [
        "print(f\"Previous tensor: {x_reshaped}\")\n",
        "print(f\"Previous shape: {x_reshaped.shape}\")\n",
        "\n",
        "#Removing the extra dimention\n",
        "\n",
        "x_squeezed = x_reshaped.squeeze()\n",
        "print(f\"\\nNew tensor: {x_squeezed}\")\n",
        "print(f\"New shape: {x_squeezed.shape}\")"
      ],
      "metadata": {
        "colab": {
          "base_uri": "https://localhost:8080/"
        },
        "id": "F1NDOJzYasCK",
        "outputId": "3e432efb-d15c-4bd2-96b6-6cf3c4be02d0"
      },
      "execution_count": 111,
      "outputs": [
        {
          "output_type": "stream",
          "name": "stdout",
          "text": [
            "Previous tensor: tensor([[ 1.,  2.,  3.,  4.,  5.,  6.,  7.,  8.,  9., 10., 11., 12.]])\n",
            "Previous shape: torch.Size([1, 12])\n",
            "\n",
            "New tensor: tensor([ 1.,  2.,  3.,  4.,  5.,  6.,  7.,  8.,  9., 10., 11., 12.])\n",
            "New shape: torch.Size([12])\n"
          ]
        }
      ]
    },
    {
      "cell_type": "markdown",
      "source": [
        "### Unsqueezing"
      ],
      "metadata": {
        "id": "d-vNVjqIblFs"
      }
    },
    {
      "cell_type": "code",
      "source": [
        "print(f\"* Previous tensor: {x_squeezed}\")\n",
        "print(f\"* Previous shape: {x_squeezed.shape}\")\n",
        "\n",
        "#Adding an extra dimension\n",
        "\n",
        "x_unsqueezed = x_squeezed.unsqueeze(dim=0)\n",
        "print(f\"\\n* New tensor: {x_unsqueezed}\")\n",
        "print(f\"* New shape: {x_unsqueezed.shape}\")"
      ],
      "metadata": {
        "colab": {
          "base_uri": "https://localhost:8080/"
        },
        "id": "EtBsxSIUcmsd",
        "outputId": "e92a69d9-8865-4de5-fb9d-f88653788d5d"
      },
      "execution_count": 139,
      "outputs": [
        {
          "output_type": "stream",
          "name": "stdout",
          "text": [
            "* Previous tensor: tensor([ 1.,  2.,  3.,  4.,  5.,  6.,  7.,  8.,  9., 10., 11., 12.])\n",
            "* Previous shape: torch.Size([12])\n",
            "\n",
            "* New tensor: tensor([[ 1.,  2.,  3.,  4.,  5.,  6.,  7.,  8.,  9., 10., 11., 12.]])\n",
            "* New shape: torch.Size([1, 12])\n"
          ]
        }
      ]
    },
    {
      "cell_type": "code",
      "source": [
        "print(f\"* Previous tensor: {x_squeezed}\")\n",
        "print(f\"* Previous shape: {x_squeezed.shape}\")\n",
        "\n",
        "#Adding an extra dimension\n",
        "\n",
        "x_unsqueezed = x_squeezed.unsqueeze(dim=1)\n",
        "print(f\"\\n* New tensor: {x_unsqueezed}\")\n",
        "print(f\"* New shape: {x_unsqueezed.shape}\")"
      ],
      "metadata": {
        "colab": {
          "base_uri": "https://localhost:8080/"
        },
        "id": "lBL2CKB_d1sb",
        "outputId": "d5c66251-dc2d-4e84-8285-c00368de0ed9"
      },
      "execution_count": 140,
      "outputs": [
        {
          "output_type": "stream",
          "name": "stdout",
          "text": [
            "* Previous tensor: tensor([ 1.,  2.,  3.,  4.,  5.,  6.,  7.,  8.,  9., 10., 11., 12.])\n",
            "* Previous shape: torch.Size([12])\n",
            "\n",
            "* New tensor: tensor([[ 1.],\n",
            "        [ 2.],\n",
            "        [ 3.],\n",
            "        [ 4.],\n",
            "        [ 5.],\n",
            "        [ 6.],\n",
            "        [ 7.],\n",
            "        [ 8.],\n",
            "        [ 9.],\n",
            "        [10.],\n",
            "        [11.],\n",
            "        [12.]])\n",
            "* New shape: torch.Size([12, 1])\n"
          ]
        }
      ]
    },
    {
      "cell_type": "markdown",
      "source": [
        "### Permute\n",
        "* Returns a `view`| of the original tensor input with its dimensions permuted."
      ],
      "metadata": {
        "id": "gVEkfNvOeM8i"
      }
    },
    {
      "cell_type": "code",
      "source": [
        "x = torch.randn(2, 3, 5)\n",
        "x"
      ],
      "metadata": {
        "colab": {
          "base_uri": "https://localhost:8080/"
        },
        "id": "i8ifucNbeQnv",
        "outputId": "ed968f2d-8362-4a47-a001-4f5e95fc1baa"
      },
      "execution_count": 141,
      "outputs": [
        {
          "output_type": "execute_result",
          "data": {
            "text/plain": [
              "tensor([[[ 0.1752,  0.6159,  0.2850,  0.5679, -0.5269],\n",
              "         [-1.9025, -0.4174,  0.6874, -2.0585,  0.4703],\n",
              "         [ 0.1015, -1.7774,  0.6062,  0.1480, -0.1337]],\n",
              "\n",
              "        [[ 0.1865, -0.4049,  0.6441,  1.6844, -3.7801],\n",
              "         [ 0.0772,  1.6471,  0.7078, -0.0273, -0.1199],\n",
              "         [-0.3780, -0.5240, -1.5817, -0.7503, -0.2733]]])"
            ]
          },
          "metadata": {},
          "execution_count": 141
        }
      ]
    },
    {
      "cell_type": "code",
      "source": [
        "x.shape"
      ],
      "metadata": {
        "colab": {
          "base_uri": "https://localhost:8080/"
        },
        "id": "szMKhI0Mee5z",
        "outputId": "150d5eb6-f7b3-443a-b1a2-4278eaba4557"
      },
      "execution_count": 142,
      "outputs": [
        {
          "output_type": "execute_result",
          "data": {
            "text/plain": [
              "torch.Size([2, 3, 5])"
            ]
          },
          "metadata": {},
          "execution_count": 142
        }
      ]
    },
    {
      "cell_type": "code",
      "source": [
        "x_permuted = torch.permute(x, (2, 0, 1))\n",
        "x_permuted.shape"
      ],
      "metadata": {
        "colab": {
          "base_uri": "https://localhost:8080/"
        },
        "id": "0XJlppkveg_a",
        "outputId": "b43e92ee-d2bb-4a2a-eafe-921a89eb1486"
      },
      "execution_count": 143,
      "outputs": [
        {
          "output_type": "execute_result",
          "data": {
            "text/plain": [
              "torch.Size([5, 2, 3])"
            ]
          },
          "metadata": {},
          "execution_count": 143
        }
      ]
    },
    {
      "cell_type": "code",
      "source": [
        "x_permuted"
      ],
      "metadata": {
        "colab": {
          "base_uri": "https://localhost:8080/"
        },
        "id": "Axjo8YRagxCb",
        "outputId": "29f637c5-5bdc-4e66-b04d-c3293c5fb322"
      },
      "execution_count": 144,
      "outputs": [
        {
          "output_type": "execute_result",
          "data": {
            "text/plain": [
              "tensor([[[ 0.1752, -1.9025,  0.1015],\n",
              "         [ 0.1865,  0.0772, -0.3780]],\n",
              "\n",
              "        [[ 0.6159, -0.4174, -1.7774],\n",
              "         [-0.4049,  1.6471, -0.5240]],\n",
              "\n",
              "        [[ 0.2850,  0.6874,  0.6062],\n",
              "         [ 0.6441,  0.7078, -1.5817]],\n",
              "\n",
              "        [[ 0.5679, -2.0585,  0.1480],\n",
              "         [ 1.6844, -0.0273, -0.7503]],\n",
              "\n",
              "        [[-0.5269,  0.4703, -0.1337],\n",
              "         [-3.7801, -0.1199, -0.2733]]])"
            ]
          },
          "metadata": {},
          "execution_count": 144
        }
      ]
    },
    {
      "cell_type": "code",
      "source": [
        "x= x[0]\n",
        "x"
      ],
      "metadata": {
        "colab": {
          "base_uri": "https://localhost:8080/"
        },
        "id": "QOf6l6IcfTNk",
        "outputId": "b5299bf0-41d8-4045-dc2a-a15b43198ae5"
      },
      "execution_count": 145,
      "outputs": [
        {
          "output_type": "execute_result",
          "data": {
            "text/plain": [
              "tensor([[ 0.1752,  0.6159,  0.2850,  0.5679, -0.5269],\n",
              "        [-1.9025, -0.4174,  0.6874, -2.0585,  0.4703],\n",
              "        [ 0.1015, -1.7774,  0.6062,  0.1480, -0.1337]])"
            ]
          },
          "metadata": {},
          "execution_count": 145
        }
      ]
    },
    {
      "cell_type": "code",
      "source": [
        "x_permuted"
      ],
      "metadata": {
        "colab": {
          "base_uri": "https://localhost:8080/"
        },
        "id": "bt_bf4KPfW9L",
        "outputId": "de191fae-690c-4e0c-fb49-a8d6a563ec27"
      },
      "execution_count": 146,
      "outputs": [
        {
          "output_type": "execute_result",
          "data": {
            "text/plain": [
              "tensor([[[ 0.1752, -1.9025,  0.1015],\n",
              "         [ 0.1865,  0.0772, -0.3780]],\n",
              "\n",
              "        [[ 0.6159, -0.4174, -1.7774],\n",
              "         [-0.4049,  1.6471, -0.5240]],\n",
              "\n",
              "        [[ 0.2850,  0.6874,  0.6062],\n",
              "         [ 0.6441,  0.7078, -1.5817]],\n",
              "\n",
              "        [[ 0.5679, -2.0585,  0.1480],\n",
              "         [ 1.6844, -0.0273, -0.7503]],\n",
              "\n",
              "        [[-0.5269,  0.4703, -0.1337],\n",
              "         [-3.7801, -0.1199, -0.2733]]])"
            ]
          },
          "metadata": {},
          "execution_count": 146
        }
      ]
    }
  ]
}